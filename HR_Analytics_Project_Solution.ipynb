{
  "nbformat": 4,
  "nbformat_minor": 0,
  "metadata": {
    "kernelspec": {
      "name": "python3",
      "display_name": "Python 3"
    },
    "colab": {
      "name": "Copy of Parkinson_Ensemble_Project_Solution.ipynb",
      "provenance": [],
      "collapsed_sections": [],
      "include_colab_link": true
    },
    "accelerator": "GPU"
  },
  "cells": [
    {
      "cell_type": "markdown",
      "metadata": {
        "id": "view-in-github",
        "colab_type": "text"
      },
      "source": [
        "<a href=\"https://colab.research.google.com/github/Dipali-Attarde/InfraBot/blob/master/HR_Analytics_Project_Solution.ipynb\" target=\"_parent\"><img src=\"https://colab.research.google.com/assets/colab-badge.svg\" alt=\"Open In Colab\"/></a>"
      ]
    },
    {
      "cell_type": "code",
      "metadata": {
        "id": "OtqmX8VcPALv",
        "colab_type": "code",
        "colab": {}
      },
      "source": [
        "# Import required library\n",
        "import pandas as pd\n",
        "import seaborn as sns\n",
        "import matplotlib.pyplot as plt\n",
        "%matplotlib inline"
      ],
      "execution_count": 0,
      "outputs": []
    },
    {
      "cell_type": "code",
      "metadata": {
        "id": "FPhc3lw7gbPJ",
        "colab_type": "code",
        "outputId": "3e57d0d2-cb44-423a-b987-db8dc623526d",
        "colab": {
          "base_uri": "https://localhost:8080/",
          "height": 121
        }
      },
      "source": [
        "from google.colab import drive\n",
        "drive.mount('/content/drive')"
      ],
      "execution_count": 3,
      "outputs": [
        {
          "output_type": "stream",
          "text": [
            "Go to this URL in a browser: https://accounts.google.com/o/oauth2/auth?client_id=947318989803-6bn6qk8qdgf4n4g3pfee6491hc0brc4i.apps.googleusercontent.com&redirect_uri=urn%3aietf%3awg%3aoauth%3a2.0%3aoob&response_type=code&scope=email%20https%3a%2f%2fwww.googleapis.com%2fauth%2fdocs.test%20https%3a%2f%2fwww.googleapis.com%2fauth%2fdrive%20https%3a%2f%2fwww.googleapis.com%2fauth%2fdrive.photos.readonly%20https%3a%2f%2fwww.googleapis.com%2fauth%2fpeopleapi.readonly\n",
            "\n",
            "Enter your authorization code:\n",
            "··········\n",
            "Mounted at /content/drive\n"
          ],
          "name": "stdout"
        }
      ]
    },
    {
      "cell_type": "code",
      "metadata": {
        "id": "csZAHNy0j6e5",
        "colab_type": "code",
        "colab": {}
      },
      "source": [
        "prj_path = \"/content/drive/My Drive/HR_Analytics/\""
      ],
      "execution_count": 0,
      "outputs": []
    },
    {
      "cell_type": "markdown",
      "metadata": {
        "id": "RNzqe9-fPAMN",
        "colab_type": "text"
      },
      "source": [
        "### Load the dataset "
      ]
    },
    {
      "cell_type": "code",
      "metadata": {
        "id": "h9M1TM4IPAMQ",
        "colab_type": "code",
        "outputId": "f3deb3cd-b2ec-4b8e-fa16-fca6fe24c918",
        "colab": {
          "base_uri": "https://localhost:8080/",
          "height": 282
        }
      },
      "source": [
        "# Read the required data\n",
        "df = pd.read_csv(prj_path+'train_LZdllcl.csv')\n",
        "#print(df.head())\n",
        "df.head()"
      ],
      "execution_count": 5,
      "outputs": [
        {
          "output_type": "execute_result",
          "data": {
            "text/html": [
              "<div>\n",
              "<style scoped>\n",
              "    .dataframe tbody tr th:only-of-type {\n",
              "        vertical-align: middle;\n",
              "    }\n",
              "\n",
              "    .dataframe tbody tr th {\n",
              "        vertical-align: top;\n",
              "    }\n",
              "\n",
              "    .dataframe thead th {\n",
              "        text-align: right;\n",
              "    }\n",
              "</style>\n",
              "<table border=\"1\" class=\"dataframe\">\n",
              "  <thead>\n",
              "    <tr style=\"text-align: right;\">\n",
              "      <th></th>\n",
              "      <th>employee_id</th>\n",
              "      <th>department</th>\n",
              "      <th>region</th>\n",
              "      <th>education</th>\n",
              "      <th>gender</th>\n",
              "      <th>recruitment_channel</th>\n",
              "      <th>no_of_trainings</th>\n",
              "      <th>age</th>\n",
              "      <th>previous_year_rating</th>\n",
              "      <th>length_of_service</th>\n",
              "      <th>KPIs_met &gt;80%</th>\n",
              "      <th>awards_won?</th>\n",
              "      <th>avg_training_score</th>\n",
              "      <th>is_promoted</th>\n",
              "    </tr>\n",
              "  </thead>\n",
              "  <tbody>\n",
              "    <tr>\n",
              "      <th>0</th>\n",
              "      <td>65438</td>\n",
              "      <td>Sales &amp; Marketing</td>\n",
              "      <td>region_7</td>\n",
              "      <td>Master's &amp; above</td>\n",
              "      <td>f</td>\n",
              "      <td>sourcing</td>\n",
              "      <td>1</td>\n",
              "      <td>35</td>\n",
              "      <td>5.0</td>\n",
              "      <td>8</td>\n",
              "      <td>1</td>\n",
              "      <td>0</td>\n",
              "      <td>49</td>\n",
              "      <td>0</td>\n",
              "    </tr>\n",
              "    <tr>\n",
              "      <th>1</th>\n",
              "      <td>65141</td>\n",
              "      <td>Operations</td>\n",
              "      <td>region_22</td>\n",
              "      <td>Bachelor's</td>\n",
              "      <td>m</td>\n",
              "      <td>other</td>\n",
              "      <td>1</td>\n",
              "      <td>30</td>\n",
              "      <td>5.0</td>\n",
              "      <td>4</td>\n",
              "      <td>0</td>\n",
              "      <td>0</td>\n",
              "      <td>60</td>\n",
              "      <td>0</td>\n",
              "    </tr>\n",
              "    <tr>\n",
              "      <th>2</th>\n",
              "      <td>7513</td>\n",
              "      <td>Sales &amp; Marketing</td>\n",
              "      <td>region_19</td>\n",
              "      <td>Bachelor's</td>\n",
              "      <td>m</td>\n",
              "      <td>sourcing</td>\n",
              "      <td>1</td>\n",
              "      <td>34</td>\n",
              "      <td>3.0</td>\n",
              "      <td>7</td>\n",
              "      <td>0</td>\n",
              "      <td>0</td>\n",
              "      <td>50</td>\n",
              "      <td>0</td>\n",
              "    </tr>\n",
              "    <tr>\n",
              "      <th>3</th>\n",
              "      <td>2542</td>\n",
              "      <td>Sales &amp; Marketing</td>\n",
              "      <td>region_23</td>\n",
              "      <td>Bachelor's</td>\n",
              "      <td>m</td>\n",
              "      <td>other</td>\n",
              "      <td>2</td>\n",
              "      <td>39</td>\n",
              "      <td>1.0</td>\n",
              "      <td>10</td>\n",
              "      <td>0</td>\n",
              "      <td>0</td>\n",
              "      <td>50</td>\n",
              "      <td>0</td>\n",
              "    </tr>\n",
              "    <tr>\n",
              "      <th>4</th>\n",
              "      <td>48945</td>\n",
              "      <td>Technology</td>\n",
              "      <td>region_26</td>\n",
              "      <td>Bachelor's</td>\n",
              "      <td>m</td>\n",
              "      <td>other</td>\n",
              "      <td>1</td>\n",
              "      <td>45</td>\n",
              "      <td>3.0</td>\n",
              "      <td>2</td>\n",
              "      <td>0</td>\n",
              "      <td>0</td>\n",
              "      <td>73</td>\n",
              "      <td>0</td>\n",
              "    </tr>\n",
              "  </tbody>\n",
              "</table>\n",
              "</div>"
            ],
            "text/plain": [
              "   employee_id         department  ... avg_training_score is_promoted\n",
              "0        65438  Sales & Marketing  ...                 49           0\n",
              "1        65141         Operations  ...                 60           0\n",
              "2         7513  Sales & Marketing  ...                 50           0\n",
              "3         2542  Sales & Marketing  ...                 50           0\n",
              "4        48945         Technology  ...                 73           0\n",
              "\n",
              "[5 rows x 14 columns]"
            ]
          },
          "metadata": {
            "tags": []
          },
          "execution_count": 5
        }
      ]
    },
    {
      "cell_type": "markdown",
      "metadata": {
        "id": "wv2OAmsvPAMf",
        "colab_type": "text"
      },
      "source": [
        "#Attribute Information:\n",
        "\n",
        "employee_id - Unique ID for employee\n",
        "department - Department of employee\n",
        "region - Region of employment (unordered)\n",
        "education -\tEducation Level\n",
        "gender -\tGender of Employee\n",
        "recruitment_channel -\tChannel of recruitment for employee\n",
        "no_of_trainings -\tno of other trainings completed in previous year on soft skills, technical skills etc.\n",
        "age -\tAge of Employee\n",
        "previous_year_rating - Employee Rating for the previous year\n",
        "length_of_service -\tLength of service in years\n",
        "KPIs_met >80% -\tif Percent of KPIs(Key performance Indicators) >80% then 1 else 0\n",
        "awards_won? -\tif awards won during previous year then 1 else 0\n",
        "avg_training_score -\tAverage score in current training evaluations\n",
        "is_promoted -\t(Target) Recommended for promotion"
      ]
    },
    {
      "cell_type": "markdown",
      "metadata": {
        "id": "sM7eY50VPAMj",
        "colab_type": "text"
      },
      "source": [
        "### EDA "
      ]
    },
    {
      "cell_type": "code",
      "metadata": {
        "id": "UXoxTjWbPAMm",
        "colab_type": "code",
        "outputId": "30bd90cb-a6b1-457c-9dfa-bf52fc2617e3",
        "colab": {
          "base_uri": "https://localhost:8080/",
          "height": 353
        }
      },
      "source": [
        "df.info()\n",
        "print(df.shape)"
      ],
      "execution_count": 5,
      "outputs": [
        {
          "output_type": "stream",
          "text": [
            "<class 'pandas.core.frame.DataFrame'>\n",
            "RangeIndex: 54808 entries, 0 to 54807\n",
            "Data columns (total 14 columns):\n",
            "employee_id             54808 non-null int64\n",
            "department              54808 non-null object\n",
            "region                  54808 non-null object\n",
            "education               52399 non-null object\n",
            "gender                  54808 non-null object\n",
            "recruitment_channel     54808 non-null object\n",
            "no_of_trainings         54808 non-null int64\n",
            "age                     54808 non-null int64\n",
            "previous_year_rating    50684 non-null float64\n",
            "length_of_service       54808 non-null int64\n",
            "KPIs_met >80%           54808 non-null int64\n",
            "awards_won?             54808 non-null int64\n",
            "avg_training_score      54808 non-null int64\n",
            "is_promoted             54808 non-null int64\n",
            "dtypes: float64(1), int64(8), object(5)\n",
            "memory usage: 5.9+ MB\n",
            "(54808, 14)\n"
          ],
          "name": "stdout"
        }
      ]
    },
    {
      "cell_type": "code",
      "metadata": {
        "id": "fjD_yaerH9KY",
        "colab_type": "code",
        "colab": {}
      },
      "source": [
        "# The following code loops through each column and checks if the column type is object then converts those columns\n",
        "# into categorical with each distinct value becoming a category or code.\n",
        "\n",
        "for feature in df.columns: # Loop through all columns in the dataframe\n",
        "    if df[feature].dtype == 'object': # Only apply for columns with categorical strings\n",
        "        df[feature] = pd.Categorical(df[feature]).codes # Replace strings with an integer"
      ],
      "execution_count": 0,
      "outputs": []
    },
    {
      "cell_type": "code",
      "metadata": {
        "id": "eZvv2h50IFcR",
        "colab_type": "code",
        "colab": {
          "base_uri": "https://localhost:8080/",
          "height": 336
        },
        "outputId": "1727392e-96cd-46d6-e712-186ababa9b9b"
      },
      "source": [
        "df.info()"
      ],
      "execution_count": 12,
      "outputs": [
        {
          "output_type": "stream",
          "text": [
            "<class 'pandas.core.frame.DataFrame'>\n",
            "RangeIndex: 54808 entries, 0 to 54807\n",
            "Data columns (total 14 columns):\n",
            "employee_id             54808 non-null int64\n",
            "department              54808 non-null int8\n",
            "region                  54808 non-null int8\n",
            "education               54808 non-null int8\n",
            "gender                  54808 non-null int8\n",
            "recruitment_channel     54808 non-null int8\n",
            "no_of_trainings         54808 non-null int64\n",
            "age                     54808 non-null int64\n",
            "previous_year_rating    50684 non-null float64\n",
            "length_of_service       54808 non-null int64\n",
            "KPIs_met >80%           54808 non-null int64\n",
            "awards_won?             54808 non-null int64\n",
            "avg_training_score      54808 non-null int64\n",
            "is_promoted             54808 non-null int64\n",
            "dtypes: float64(1), int64(8), int8(5)\n",
            "memory usage: 4.0 MB\n"
          ],
          "name": "stdout"
        }
      ]
    },
    {
      "cell_type": "code",
      "metadata": {
        "id": "tzYy5i03PAMz",
        "colab_type": "code",
        "colab": {}
      },
      "source": [
        "# Making dependent and in dependent variables seperated\n",
        "X = df.drop('is_promoted', axis=1)\n",
        "y = df['is_promoted']"
      ],
      "execution_count": 0,
      "outputs": []
    },
    {
      "cell_type": "code",
      "metadata": {
        "id": "6xMtqZAlPAM_",
        "colab_type": "code",
        "outputId": "ca66930c-edcc-4680-8293-07c498bea577",
        "colab": {
          "base_uri": "https://localhost:8080/",
          "height": 84
        }
      },
      "source": [
        "# is_promoted will be dependent variable, check it's distribution\n",
        "df.groupby(['is_promoted']).size()\n",
        "# Most of the employees are in not promoted category"
      ],
      "execution_count": 7,
      "outputs": [
        {
          "output_type": "execute_result",
          "data": {
            "text/plain": [
              "is_promoted\n",
              "0    50140\n",
              "1     4668\n",
              "dtype: int64"
            ]
          },
          "metadata": {
            "tags": []
          },
          "execution_count": 7
        }
      ]
    },
    {
      "cell_type": "code",
      "metadata": {
        "id": "JvIKk5JpRjEM",
        "colab_type": "code",
        "colab": {
          "base_uri": "https://localhost:8080/",
          "height": 118
        },
        "outputId": "41da0baa-0888-4f44-fce1-eaa94433c19a"
      },
      "source": [
        "df.groupby(['education']).size()"
      ],
      "execution_count": 18,
      "outputs": [
        {
          "output_type": "execute_result",
          "data": {
            "text/plain": [
              "education\n",
              "-1     2409\n",
              " 0    36669\n",
              " 1      805\n",
              " 2    14925\n",
              "dtype: int64"
            ]
          },
          "metadata": {
            "tags": []
          },
          "execution_count": 18
        }
      ]
    },
    {
      "cell_type": "code",
      "metadata": {
        "id": "pMsqMiXLSoCr",
        "colab_type": "code",
        "colab": {}
      },
      "source": [
        "## Filling missing enteris with maximum occuring event\n",
        "df['previous_year_rating'].fillna(3.0, inplace=True)\n",
        "df['education'].fillna('Bachelor\\'s', inplace=True)"
      ],
      "execution_count": 0,
      "outputs": []
    },
    {
      "cell_type": "code",
      "metadata": {
        "id": "ynDtBpq-PANQ",
        "colab_type": "code",
        "outputId": "362984b2-c9a8-417b-d6aa-15d839773743",
        "colab": {
          "base_uri": "https://localhost:8080/",
          "height": 462
        }
      },
      "source": [
        "# Check Summary Statistics\n",
        "df.describe().transpose()"
      ],
      "execution_count": 21,
      "outputs": [
        {
          "output_type": "execute_result",
          "data": {
            "text/html": [
              "<div>\n",
              "<style scoped>\n",
              "    .dataframe tbody tr th:only-of-type {\n",
              "        vertical-align: middle;\n",
              "    }\n",
              "\n",
              "    .dataframe tbody tr th {\n",
              "        vertical-align: top;\n",
              "    }\n",
              "\n",
              "    .dataframe thead th {\n",
              "        text-align: right;\n",
              "    }\n",
              "</style>\n",
              "<table border=\"1\" class=\"dataframe\">\n",
              "  <thead>\n",
              "    <tr style=\"text-align: right;\">\n",
              "      <th></th>\n",
              "      <th>count</th>\n",
              "      <th>mean</th>\n",
              "      <th>std</th>\n",
              "      <th>min</th>\n",
              "      <th>25%</th>\n",
              "      <th>50%</th>\n",
              "      <th>75%</th>\n",
              "      <th>max</th>\n",
              "    </tr>\n",
              "  </thead>\n",
              "  <tbody>\n",
              "    <tr>\n",
              "      <th>employee_id</th>\n",
              "      <td>54808.0</td>\n",
              "      <td>39195.830627</td>\n",
              "      <td>22586.581449</td>\n",
              "      <td>1.0</td>\n",
              "      <td>19669.75</td>\n",
              "      <td>39225.5</td>\n",
              "      <td>58730.5</td>\n",
              "      <td>78298.0</td>\n",
              "    </tr>\n",
              "    <tr>\n",
              "      <th>department</th>\n",
              "      <td>54808.0</td>\n",
              "      <td>4.972796</td>\n",
              "      <td>2.506046</td>\n",
              "      <td>0.0</td>\n",
              "      <td>4.00</td>\n",
              "      <td>5.0</td>\n",
              "      <td>7.0</td>\n",
              "      <td>8.0</td>\n",
              "    </tr>\n",
              "    <tr>\n",
              "      <th>region</th>\n",
              "      <td>54808.0</td>\n",
              "      <td>15.428970</td>\n",
              "      <td>8.764954</td>\n",
              "      <td>0.0</td>\n",
              "      <td>11.00</td>\n",
              "      <td>14.0</td>\n",
              "      <td>21.0</td>\n",
              "      <td>33.0</td>\n",
              "    </tr>\n",
              "    <tr>\n",
              "      <th>education</th>\n",
              "      <td>54808.0</td>\n",
              "      <td>0.515363</td>\n",
              "      <td>0.939316</td>\n",
              "      <td>-1.0</td>\n",
              "      <td>0.00</td>\n",
              "      <td>0.0</td>\n",
              "      <td>2.0</td>\n",
              "      <td>2.0</td>\n",
              "    </tr>\n",
              "    <tr>\n",
              "      <th>gender</th>\n",
              "      <td>54808.0</td>\n",
              "      <td>0.702379</td>\n",
              "      <td>0.457216</td>\n",
              "      <td>0.0</td>\n",
              "      <td>0.00</td>\n",
              "      <td>1.0</td>\n",
              "      <td>1.0</td>\n",
              "      <td>1.0</td>\n",
              "    </tr>\n",
              "    <tr>\n",
              "      <th>recruitment_channel</th>\n",
              "      <td>54808.0</td>\n",
              "      <td>0.868158</td>\n",
              "      <td>0.980713</td>\n",
              "      <td>0.0</td>\n",
              "      <td>0.00</td>\n",
              "      <td>0.0</td>\n",
              "      <td>2.0</td>\n",
              "      <td>2.0</td>\n",
              "    </tr>\n",
              "    <tr>\n",
              "      <th>no_of_trainings</th>\n",
              "      <td>54808.0</td>\n",
              "      <td>1.253011</td>\n",
              "      <td>0.609264</td>\n",
              "      <td>1.0</td>\n",
              "      <td>1.00</td>\n",
              "      <td>1.0</td>\n",
              "      <td>1.0</td>\n",
              "      <td>10.0</td>\n",
              "    </tr>\n",
              "    <tr>\n",
              "      <th>age</th>\n",
              "      <td>54808.0</td>\n",
              "      <td>34.803915</td>\n",
              "      <td>7.660169</td>\n",
              "      <td>20.0</td>\n",
              "      <td>29.00</td>\n",
              "      <td>33.0</td>\n",
              "      <td>39.0</td>\n",
              "      <td>60.0</td>\n",
              "    </tr>\n",
              "    <tr>\n",
              "      <th>previous_year_rating</th>\n",
              "      <td>54808.0</td>\n",
              "      <td>3.304481</td>\n",
              "      <td>1.214770</td>\n",
              "      <td>1.0</td>\n",
              "      <td>3.00</td>\n",
              "      <td>3.0</td>\n",
              "      <td>4.0</td>\n",
              "      <td>5.0</td>\n",
              "    </tr>\n",
              "    <tr>\n",
              "      <th>length_of_service</th>\n",
              "      <td>54808.0</td>\n",
              "      <td>5.865512</td>\n",
              "      <td>4.265094</td>\n",
              "      <td>1.0</td>\n",
              "      <td>3.00</td>\n",
              "      <td>5.0</td>\n",
              "      <td>7.0</td>\n",
              "      <td>37.0</td>\n",
              "    </tr>\n",
              "    <tr>\n",
              "      <th>KPIs_met &gt;80%</th>\n",
              "      <td>54808.0</td>\n",
              "      <td>0.351974</td>\n",
              "      <td>0.477590</td>\n",
              "      <td>0.0</td>\n",
              "      <td>0.00</td>\n",
              "      <td>0.0</td>\n",
              "      <td>1.0</td>\n",
              "      <td>1.0</td>\n",
              "    </tr>\n",
              "    <tr>\n",
              "      <th>awards_won?</th>\n",
              "      <td>54808.0</td>\n",
              "      <td>0.023172</td>\n",
              "      <td>0.150450</td>\n",
              "      <td>0.0</td>\n",
              "      <td>0.00</td>\n",
              "      <td>0.0</td>\n",
              "      <td>0.0</td>\n",
              "      <td>1.0</td>\n",
              "    </tr>\n",
              "    <tr>\n",
              "      <th>avg_training_score</th>\n",
              "      <td>54808.0</td>\n",
              "      <td>63.386750</td>\n",
              "      <td>13.371559</td>\n",
              "      <td>39.0</td>\n",
              "      <td>51.00</td>\n",
              "      <td>60.0</td>\n",
              "      <td>76.0</td>\n",
              "      <td>99.0</td>\n",
              "    </tr>\n",
              "    <tr>\n",
              "      <th>is_promoted</th>\n",
              "      <td>54808.0</td>\n",
              "      <td>0.085170</td>\n",
              "      <td>0.279137</td>\n",
              "      <td>0.0</td>\n",
              "      <td>0.00</td>\n",
              "      <td>0.0</td>\n",
              "      <td>0.0</td>\n",
              "      <td>1.0</td>\n",
              "    </tr>\n",
              "  </tbody>\n",
              "</table>\n",
              "</div>"
            ],
            "text/plain": [
              "                        count          mean  ...      75%      max\n",
              "employee_id           54808.0  39195.830627  ...  58730.5  78298.0\n",
              "department            54808.0      4.972796  ...      7.0      8.0\n",
              "region                54808.0     15.428970  ...     21.0     33.0\n",
              "education             54808.0      0.515363  ...      2.0      2.0\n",
              "gender                54808.0      0.702379  ...      1.0      1.0\n",
              "recruitment_channel   54808.0      0.868158  ...      2.0      2.0\n",
              "no_of_trainings       54808.0      1.253011  ...      1.0     10.0\n",
              "age                   54808.0     34.803915  ...     39.0     60.0\n",
              "previous_year_rating  54808.0      3.304481  ...      4.0      5.0\n",
              "length_of_service     54808.0      5.865512  ...      7.0     37.0\n",
              "KPIs_met >80%         54808.0      0.351974  ...      1.0      1.0\n",
              "awards_won?           54808.0      0.023172  ...      0.0      1.0\n",
              "avg_training_score    54808.0     63.386750  ...     76.0     99.0\n",
              "is_promoted           54808.0      0.085170  ...      0.0      1.0\n",
              "\n",
              "[14 rows x 8 columns]"
            ]
          },
          "metadata": {
            "tags": []
          },
          "execution_count": 21
        }
      ]
    },
    {
      "cell_type": "markdown",
      "metadata": {
        "id": "uESAy-v2PANc",
        "colab_type": "text"
      },
      "source": [
        "### MDVP:Fo(Hz), MDVP:Fhi(Hz), MDVP:Flo(Hz), MDVP:PPQ, MDVP:RAP, MDVP:shimmer(dB) Mean and 50% values are not similar, seems outlier present\n",
        "### MDVP:Fo(Hz), MDVP:Fhi(Hz), MDVP:Flo(Hz): It's not normal data by distribution, most of the observations are spread more than 3 standard deviations on each side of the mean."
      ]
    },
    {
      "cell_type": "code",
      "metadata": {
        "id": "oY295eUCPANf",
        "colab_type": "code",
        "outputId": "63517523-9e34-4619-9939-7d1a57ef5abd",
        "colab": {
          "base_uri": "https://localhost:8080/",
          "height": 34
        }
      },
      "source": [
        "# Check for missing values\n",
        "df.isnull().values.any()"
      ],
      "execution_count": 9,
      "outputs": [
        {
          "output_type": "execute_result",
          "data": {
            "text/plain": [
              "True"
            ]
          },
          "metadata": {
            "tags": []
          },
          "execution_count": 9
        }
      ]
    },
    {
      "cell_type": "code",
      "metadata": {
        "id": "s4mmuvrWwngj",
        "colab_type": "code",
        "colab": {
          "base_uri": "https://localhost:8080/",
          "height": 269
        },
        "outputId": "5cc5b802-3cc8-4bc1-a962-1ba13a00d965"
      },
      "source": [
        "print(df.isnull().sum())"
      ],
      "execution_count": 10,
      "outputs": [
        {
          "output_type": "stream",
          "text": [
            "employee_id                0\n",
            "department                 0\n",
            "region                     0\n",
            "education               2409\n",
            "gender                     0\n",
            "recruitment_channel        0\n",
            "no_of_trainings            0\n",
            "age                        0\n",
            "previous_year_rating    4124\n",
            "length_of_service          0\n",
            "KPIs_met >80%              0\n",
            "awards_won?                0\n",
            "avg_training_score         0\n",
            "is_promoted                0\n",
            "dtype: int64\n"
          ],
          "name": "stdout"
        }
      ]
    },
    {
      "cell_type": "code",
      "metadata": {
        "id": "cY9j_94ZPANp",
        "colab_type": "code",
        "outputId": "5cf827bc-5ac0-4288-eb42-03343d5173ab",
        "colab": {
          "base_uri": "https://localhost:8080/",
          "height": 1000
        }
      },
      "source": [
        "# Plot the distribution for each variable\n",
        "df.hist(figsize=(15,20),bins = 50,xlabelsize=8,ylabelsize =8)\n",
        "plt.show()"
      ],
      "execution_count": 10,
      "outputs": [
        {
          "output_type": "display_data",
          "data": {
            "image/png": "[encoded data removed]",
            "text/plain": [
              "<Figure size 1080x1440 with 9 Axes>"
            ]
          },
          "metadata": {
            "tags": []
          }
        }
      ]
    },
    {
      "cell_type": "markdown",
      "metadata": {
        "id": "EFf8FwB4PAN4",
        "colab_type": "text"
      },
      "source": [
        "MDVP:Fhi(Hz): Distribution is right-skewed as mean is greater than the median and there seems several outliers in the data \n",
        "\n",
        "MDVP:PPQ, MDVP:RAP, MDVP:shimmer(dB) : Distribution is right-skewed and there seems several outliers in the data\n",
        "\n",
        "Spread1, Spread2 : Distribution seems uniform "
      ]
    },
    {
      "cell_type": "markdown",
      "metadata": {
        "id": "B0-xqTZ_PAN8",
        "colab_type": "text"
      },
      "source": [
        "### Univariate & Bivariate Analysis"
      ]
    },
    {
      "cell_type": "code",
      "metadata": {
        "id": "vL4cNp2pPAN_",
        "colab_type": "code",
        "outputId": "84c9c6b5-30f8-4561-eb1f-4447b6cbb4b6",
        "colab": {
          "base_uri": "https://localhost:8080/",
          "height": 1000
        }
      },
      "source": [
        "sns.boxplot(x=\"is_promoted\", y=\"employee_id\", hue=\"is_promoted\", data=df, palette=\"PRGn\")\n",
        "plt.show()\n",
        "\n",
        "sns.boxplot(x=\"is_promoted\", y=\"department\", hue=\"is_promoted\", data=df, palette=\"PRGn\")\n",
        "plt.show()\n",
        "\n",
        "sns.boxplot(x=\"is_promoted\", y=\"region\", hue=\"is_promoted\", data=df, palette=\"PRGn\")\n",
        "plt.show()\n",
        "\n",
        "sns.boxplot(x=\"is_promoted\", y=\"education\", hue=\"is_promoted\", data=df, palette=\"PRGn\")\n",
        "plt.show()\n",
        "\n",
        "sns.boxplot(x=\"is_promoted\", y=\"gender\", hue=\"is_promoted\", data=df, palette=\"PRGn\")\n",
        "plt.show()\n",
        "\n",
        "sns.boxplot(x=\"is_promoted\", y=\"recruitment_channel\", hue=\"is_promoted\", data=df, palette=\"PRGn\")\n",
        "plt.show()\n",
        "\n",
        "sns.boxplot(x=\"is_promoted\", y=\"no_of_trainings\", hue=\"is_promoted\", data=df, palette=\"PRGn\")\n",
        "plt.show()\n",
        "\n",
        "sns.boxplot(x=\"is_promoted\", y=\"age\", hue=\"is_promoted\", data=df, palette=\"PRGn\")\n",
        "plt.show()\n",
        "\n",
        "sns.boxplot(x=\"is_promoted\", y=\"previous_year_rating\", hue=\"is_promoted\", data=df, palette=\"PRGn\")\n",
        "plt.show()\n",
        "\n",
        "sns.boxplot(x=\"is_promoted\", y=\"length_of_service\", hue=\"is_promoted\", data=df, palette=\"PRGn\")\n",
        "plt.show()\n",
        "\n",
        "sns.boxplot(x=\"is_promoted\", y=\"KPIs_met >80%\", hue=\"is_promoted\", data=df, palette=\"PRGn\")\n",
        "plt.show()\n",
        "\n",
        "sns.boxplot(x=\"is_promoted\", y=\"awards_won?\", hue=\"is_promoted\", data=df, palette=\"PRGn\")\n",
        "plt.show()\n",
        "\n",
        "sns.boxplot(x=\"is_promoted\", y=\"avg_training_score\", hue=\"is_promoted\", data=df, palette=\"PRGn\")\n",
        "plt.show()"
      ],
      "execution_count": 11,
      "outputs": [
        {
          "output_type": "display_data",
          "data": {
            "image/png": "[encoded data removed]",
            "text/plain": [
              "<Figure size 432x288 with 1 Axes>"
            ]
          },
          "metadata": {
            "tags": []
          }
        },
        {
          "output_type": "display_data",
          "data": {
            "image/png": "[encoded data removed]",
            "text/plain": [
              "<Figure size 432x288 with 1 Axes>"
            ]
          },
          "metadata": {
            "tags": []
          }
        },
        {
          "output_type": "display_data",
          "data": {
            "image/png": "[encoded data removed]",
            "text/plain": [
              "<Figure size 432x288 with 1 Axes>"
            ]
          },
          "metadata": {
            "tags": []
          }
        },
        {
          "output_type": "display_data",
          "data": {
            "image/png": "[encoded data removed]",
            "text/plain": [
              "<Figure size 432x288 with 1 Axes>"
            ]
          },
          "metadata": {
            "tags": []
          }
        },
        {
          "output_type": "display_data",
          "data": {
            "image/png": "[encoded data removed]",
            "text/plain": [
              "<Figure size 432x288 with 1 Axes>"
            ]
          },
          "metadata": {
            "tags": []
          }
        },
        {
          "output_type": "display_data",
          "data": {
            "image/png": "[encoded data removed]",
            "text/plain": [
              "<Figure size 432x288 with 1 Axes>"
            ]
          },
          "metadata": {
            "tags": []
          }
        },
        {
          "output_type": "display_data",
          "data": {
            "image/png": "[encoded data removed]",
            "text/plain": [
              "<Figure size 432x288 with 1 Axes>"
            ]
          },
          "metadata": {
            "tags": []
          }
        },
        {
          "output_type": "display_data",
          "data": {
            "image/png": "[encoded data removed]",
            "text/plain": [
              "<Figure size 432x288 with 1 Axes>"
            ]
          },
          "metadata": {
            "tags": []
          }
        },
        {
          "output_type": "display_data",
          "data": {
            "image/png": "[encoded data removed]",
            "text/plain": [
              "<Figure size 432x288 with 1 Axes>"
            ]
          },
          "metadata": {
            "tags": []
          }
        },
        {
          "output_type": "display_data",
          "data": {
            "image/png": "[encoded data removed]",
            "text/plain": [
              "<Figure size 432x288 with 1 Axes>"
            ]
          },
          "metadata": {
            "tags": []
          }
        },
        {
          "output_type": "display_data",
          "data": {
            "image/png": "[encoded data removed]",
            "text/plain": [
              "<Figure size 432x288 with 1 Axes>"
            ]
          },
          "metadata": {
            "tags": []
          }
        },
        {
          "output_type": "display_data",
          "data": {
            "image/png": "[encoded data removed]",
            "text/plain": [
              "<Figure size 432x288 with 1 Axes>"
            ]
          },
          "metadata": {
            "tags": []
          }
        },
        {
          "output_type": "display_data",
          "data": {
            "image/png": "[encoded data removed]",
            "text/plain": [
              "<Figure size 432x288 with 1 Axes>"
            ]
          },
          "metadata": {
            "tags": []
          }
        }
      ]
    },
    {
      "cell_type": "code",
      "metadata": {
        "id": "cMe7yQ4z145x",
        "colab_type": "code",
        "colab": {
          "base_uri": "https://localhost:8080/",
          "height": 296
        },
        "outputId": "52bf96a3-8290-48be-cc00-29c4ee8b5e3c"
      },
      "source": [
        "sns.boxplot(x=df['age'])\n"
      ],
      "execution_count": 12,
      "outputs": [
        {
          "output_type": "execute_result",
          "data": {
            "text/plain": [
              "<matplotlib.axes._subplots.AxesSubplot at 0x7f3e32f3e4e0>"
            ]
          },
          "metadata": {
            "tags": []
          },
          "execution_count": 12
        },
        {
          "output_type": "display_data",
          "data": {
            "image/png": "[encoded data removed]",
            "text/plain": [
              "<Figure size 432x288 with 1 Axes>"
            ]
          },
          "metadata": {
            "tags": []
          }
        }
      ]
    },
    {
      "cell_type": "code",
      "metadata": {
        "id": "fiIP7mT32Wr9",
        "colab_type": "code",
        "colab": {
          "base_uri": "https://localhost:8080/",
          "height": 297
        },
        "outputId": "f2b0d2b3-a131-40f0-a663-5921e6e40f63"
      },
      "source": [
        "sns.boxplot(x=df['no_of_trainings'])"
      ],
      "execution_count": 13,
      "outputs": [
        {
          "output_type": "execute_result",
          "data": {
            "text/plain": [
              "<matplotlib.axes._subplots.AxesSubplot at 0x7f3e32342128>"
            ]
          },
          "metadata": {
            "tags": []
          },
          "execution_count": 13
        },
        {
          "output_type": "display_data",
          "data": {
            "image/png": "[encoded data removed]",
            "text/plain": [
              "<Figure size 432x288 with 1 Axes>"
            ]
          },
          "metadata": {
            "tags": []
          }
        }
      ]
    },
    {
      "cell_type": "code",
      "metadata": {
        "id": "VWjmUEXr2gLy",
        "colab_type": "code",
        "colab": {
          "base_uri": "https://localhost:8080/",
          "height": 297
        },
        "outputId": "aa4eb1ce-dab7-4ae8-cc5c-1773d5c0f54b"
      },
      "source": [
        "sns.boxplot(x=df['length_of_service'])"
      ],
      "execution_count": 14,
      "outputs": [
        {
          "output_type": "execute_result",
          "data": {
            "text/plain": [
              "<matplotlib.axes._subplots.AxesSubplot at 0x7f3e3292c390>"
            ]
          },
          "metadata": {
            "tags": []
          },
          "execution_count": 14
        },
        {
          "output_type": "display_data",
          "data": {
            "image/png": "[encoded data removed]",
            "text/plain": [
              "<Figure size 432x288 with 1 Axes>"
            ]
          },
          "metadata": {
            "tags": []
          }
        }
      ]
    },
    {
      "cell_type": "code",
      "metadata": {
        "id": "xGqOTMGc277k",
        "colab_type": "code",
        "colab": {
          "base_uri": "https://localhost:8080/",
          "height": 893
        },
        "outputId": "bedb4c12-38e4-4ad3-dca7-201e3105f3e2"
      },
      "source": [
        "# Finding the relations between the variables.\n",
        "plt.figure(figsize=(20,10))\n",
        "c= df.corr()\n",
        "sns.heatmap(c,cmap='BrBG',annot=True)\n",
        "c"
      ],
      "execution_count": 16,
      "outputs": [
        {
          "output_type": "execute_result",
          "data": {
            "text/html": [
              "<div>\n",
              "<style scoped>\n",
              "    .dataframe tbody tr th:only-of-type {\n",
              "        vertical-align: middle;\n",
              "    }\n",
              "\n",
              "    .dataframe tbody tr th {\n",
              "        vertical-align: top;\n",
              "    }\n",
              "\n",
              "    .dataframe thead th {\n",
              "        text-align: right;\n",
              "    }\n",
              "</style>\n",
              "<table border=\"1\" class=\"dataframe\">\n",
              "  <thead>\n",
              "    <tr style=\"text-align: right;\">\n",
              "      <th></th>\n",
              "      <th>employee_id</th>\n",
              "      <th>no_of_trainings</th>\n",
              "      <th>age</th>\n",
              "      <th>previous_year_rating</th>\n",
              "      <th>length_of_service</th>\n",
              "      <th>KPIs_met &gt;80%</th>\n",
              "      <th>awards_won?</th>\n",
              "      <th>avg_training_score</th>\n",
              "      <th>is_promoted</th>\n",
              "    </tr>\n",
              "  </thead>\n",
              "  <tbody>\n",
              "    <tr>\n",
              "      <th>employee_id</th>\n",
              "      <td>1.000000</td>\n",
              "      <td>-0.005121</td>\n",
              "      <td>0.000437</td>\n",
              "      <td>0.004533</td>\n",
              "      <td>0.001274</td>\n",
              "      <td>-0.002501</td>\n",
              "      <td>0.008420</td>\n",
              "      <td>-0.000586</td>\n",
              "      <td>0.001206</td>\n",
              "    </tr>\n",
              "    <tr>\n",
              "      <th>no_of_trainings</th>\n",
              "      <td>-0.005121</td>\n",
              "      <td>1.000000</td>\n",
              "      <td>-0.081278</td>\n",
              "      <td>-0.063126</td>\n",
              "      <td>-0.057275</td>\n",
              "      <td>-0.045576</td>\n",
              "      <td>-0.007628</td>\n",
              "      <td>0.042517</td>\n",
              "      <td>-0.024896</td>\n",
              "    </tr>\n",
              "    <tr>\n",
              "      <th>age</th>\n",
              "      <td>0.000437</td>\n",
              "      <td>-0.081278</td>\n",
              "      <td>1.000000</td>\n",
              "      <td>0.006008</td>\n",
              "      <td>0.657111</td>\n",
              "      <td>-0.025592</td>\n",
              "      <td>-0.008169</td>\n",
              "      <td>-0.048380</td>\n",
              "      <td>-0.017166</td>\n",
              "    </tr>\n",
              "    <tr>\n",
              "      <th>previous_year_rating</th>\n",
              "      <td>0.004533</td>\n",
              "      <td>-0.063126</td>\n",
              "      <td>0.006008</td>\n",
              "      <td>1.000000</td>\n",
              "      <td>0.000253</td>\n",
              "      <td>0.351578</td>\n",
              "      <td>0.027738</td>\n",
              "      <td>0.075139</td>\n",
              "      <td>0.159320</td>\n",
              "    </tr>\n",
              "    <tr>\n",
              "      <th>length_of_service</th>\n",
              "      <td>0.001274</td>\n",
              "      <td>-0.057275</td>\n",
              "      <td>0.657111</td>\n",
              "      <td>0.000253</td>\n",
              "      <td>1.000000</td>\n",
              "      <td>-0.077693</td>\n",
              "      <td>-0.039927</td>\n",
              "      <td>-0.038122</td>\n",
              "      <td>-0.010670</td>\n",
              "    </tr>\n",
              "    <tr>\n",
              "      <th>KPIs_met &gt;80%</th>\n",
              "      <td>-0.002501</td>\n",
              "      <td>-0.045576</td>\n",
              "      <td>-0.025592</td>\n",
              "      <td>0.351578</td>\n",
              "      <td>-0.077693</td>\n",
              "      <td>1.000000</td>\n",
              "      <td>0.097000</td>\n",
              "      <td>0.078391</td>\n",
              "      <td>0.221582</td>\n",
              "    </tr>\n",
              "    <tr>\n",
              "      <th>awards_won?</th>\n",
              "      <td>0.008420</td>\n",
              "      <td>-0.007628</td>\n",
              "      <td>-0.008169</td>\n",
              "      <td>0.027738</td>\n",
              "      <td>-0.039927</td>\n",
              "      <td>0.097000</td>\n",
              "      <td>1.000000</td>\n",
              "      <td>0.072138</td>\n",
              "      <td>0.195871</td>\n",
              "    </tr>\n",
              "    <tr>\n",
              "      <th>avg_training_score</th>\n",
              "      <td>-0.000586</td>\n",
              "      <td>0.042517</td>\n",
              "      <td>-0.048380</td>\n",
              "      <td>0.075139</td>\n",
              "      <td>-0.038122</td>\n",
              "      <td>0.078391</td>\n",
              "      <td>0.072138</td>\n",
              "      <td>1.000000</td>\n",
              "      <td>0.181147</td>\n",
              "    </tr>\n",
              "    <tr>\n",
              "      <th>is_promoted</th>\n",
              "      <td>0.001206</td>\n",
              "      <td>-0.024896</td>\n",
              "      <td>-0.017166</td>\n",
              "      <td>0.159320</td>\n",
              "      <td>-0.010670</td>\n",
              "      <td>0.221582</td>\n",
              "      <td>0.195871</td>\n",
              "      <td>0.181147</td>\n",
              "      <td>1.000000</td>\n",
              "    </tr>\n",
              "  </tbody>\n",
              "</table>\n",
              "</div>"
            ],
            "text/plain": [
              "                      employee_id  ...  is_promoted\n",
              "employee_id              1.000000  ...     0.001206\n",
              "no_of_trainings         -0.005121  ...    -0.024896\n",
              "age                      0.000437  ...    -0.017166\n",
              "previous_year_rating     0.004533  ...     0.159320\n",
              "length_of_service        0.001274  ...    -0.010670\n",
              "KPIs_met >80%           -0.002501  ...     0.221582\n",
              "awards_won?              0.008420  ...     0.195871\n",
              "avg_training_score      -0.000586  ...     0.181147\n",
              "is_promoted              0.001206  ...     1.000000\n",
              "\n",
              "[9 rows x 9 columns]"
            ]
          },
          "metadata": {
            "tags": []
          },
          "execution_count": 16
        },
        {
          "output_type": "display_data",
          "data": {
            "image/png": "[encoded data removed]",
            "text/plain": [
              "<Figure size 1440x720 with 2 Axes>"
            ]
          },
          "metadata": {
            "tags": []
          }
        }
      ]
    },
    {
      "cell_type": "markdown",
      "metadata": {
        "id": "ZMbhJKvePAOJ",
        "colab_type": "text"
      },
      "source": [
        "###  MDVP:Fo(Hz) varies a lot on the upper quartile group which is shown by the long whisker on the upper fence. There are no outliers in the data .\n",
        "### MDVP:Fhi(Hz) varies a lot on the upper quartile group which is shown by the long whisker on the upper fence. Outliers are present in the data\n",
        "### MDVP:Flo(Hz) varies a lot on the upper quartile group which is shown by the long whisker on the upper fence. Outliers are present in the data\n",
        "### MDVP:Jitter(%) varies on the upper quartile group which is shown by the long whisker on the upper fence.Due to most of the datapoints are outliers the median is very low\n",
        "### MDVP:Jitter(Abs) varies on the upper quartile group. Presence of outliers makes the distribution right-skewed\n",
        "### MDVP:RAP varies on the upper quartile group especially for status=1 . Due to most of the datapoints are outliers the median is very low \n",
        "### NHR data variability/spread is very high and most of the datapoints are outliers . So the IQR is so narrow with median value close to the Q1 value\n"
      ]
    },
    {
      "cell_type": "code",
      "metadata": {
        "id": "saQrDICwPAON",
        "colab_type": "code",
        "outputId": "34d926ed-858a-4587-81d0-6cb412d46df5",
        "colab": {
          "base_uri": "https://localhost:8080/",
          "height": 314
        }
      },
      "source": [
        "# Check the correlation\n",
        "df.corr()"
      ],
      "execution_count": 7,
      "outputs": [
        {
          "output_type": "execute_result",
          "data": {
            "text/html": [
              "<div>\n",
              "<style scoped>\n",
              "    .dataframe tbody tr th:only-of-type {\n",
              "        vertical-align: middle;\n",
              "    }\n",
              "\n",
              "    .dataframe tbody tr th {\n",
              "        vertical-align: top;\n",
              "    }\n",
              "\n",
              "    .dataframe thead th {\n",
              "        text-align: right;\n",
              "    }\n",
              "</style>\n",
              "<table border=\"1\" class=\"dataframe\">\n",
              "  <thead>\n",
              "    <tr style=\"text-align: right;\">\n",
              "      <th></th>\n",
              "      <th>employee_id</th>\n",
              "      <th>no_of_trainings</th>\n",
              "      <th>age</th>\n",
              "      <th>previous_year_rating</th>\n",
              "      <th>length_of_service</th>\n",
              "      <th>KPIs_met &gt;80%</th>\n",
              "      <th>awards_won?</th>\n",
              "      <th>avg_training_score</th>\n",
              "      <th>is_promoted</th>\n",
              "    </tr>\n",
              "  </thead>\n",
              "  <tbody>\n",
              "    <tr>\n",
              "      <th>employee_id</th>\n",
              "      <td>1.000000</td>\n",
              "      <td>-0.005121</td>\n",
              "      <td>0.000437</td>\n",
              "      <td>0.004533</td>\n",
              "      <td>0.001274</td>\n",
              "      <td>-0.002501</td>\n",
              "      <td>0.008420</td>\n",
              "      <td>-0.000586</td>\n",
              "      <td>0.001206</td>\n",
              "    </tr>\n",
              "    <tr>\n",
              "      <th>no_of_trainings</th>\n",
              "      <td>-0.005121</td>\n",
              "      <td>1.000000</td>\n",
              "      <td>-0.081278</td>\n",
              "      <td>-0.063126</td>\n",
              "      <td>-0.057275</td>\n",
              "      <td>-0.045576</td>\n",
              "      <td>-0.007628</td>\n",
              "      <td>0.042517</td>\n",
              "      <td>-0.024896</td>\n",
              "    </tr>\n",
              "    <tr>\n",
              "      <th>age</th>\n",
              "      <td>0.000437</td>\n",
              "      <td>-0.081278</td>\n",
              "      <td>1.000000</td>\n",
              "      <td>0.006008</td>\n",
              "      <td>0.657111</td>\n",
              "      <td>-0.025592</td>\n",
              "      <td>-0.008169</td>\n",
              "      <td>-0.048380</td>\n",
              "      <td>-0.017166</td>\n",
              "    </tr>\n",
              "    <tr>\n",
              "      <th>previous_year_rating</th>\n",
              "      <td>0.004533</td>\n",
              "      <td>-0.063126</td>\n",
              "      <td>0.006008</td>\n",
              "      <td>1.000000</td>\n",
              "      <td>0.000253</td>\n",
              "      <td>0.351578</td>\n",
              "      <td>0.027738</td>\n",
              "      <td>0.075139</td>\n",
              "      <td>0.159320</td>\n",
              "    </tr>\n",
              "    <tr>\n",
              "      <th>length_of_service</th>\n",
              "      <td>0.001274</td>\n",
              "      <td>-0.057275</td>\n",
              "      <td>0.657111</td>\n",
              "      <td>0.000253</td>\n",
              "      <td>1.000000</td>\n",
              "      <td>-0.077693</td>\n",
              "      <td>-0.039927</td>\n",
              "      <td>-0.038122</td>\n",
              "      <td>-0.010670</td>\n",
              "    </tr>\n",
              "    <tr>\n",
              "      <th>KPIs_met &gt;80%</th>\n",
              "      <td>-0.002501</td>\n",
              "      <td>-0.045576</td>\n",
              "      <td>-0.025592</td>\n",
              "      <td>0.351578</td>\n",
              "      <td>-0.077693</td>\n",
              "      <td>1.000000</td>\n",
              "      <td>0.097000</td>\n",
              "      <td>0.078391</td>\n",
              "      <td>0.221582</td>\n",
              "    </tr>\n",
              "    <tr>\n",
              "      <th>awards_won?</th>\n",
              "      <td>0.008420</td>\n",
              "      <td>-0.007628</td>\n",
              "      <td>-0.008169</td>\n",
              "      <td>0.027738</td>\n",
              "      <td>-0.039927</td>\n",
              "      <td>0.097000</td>\n",
              "      <td>1.000000</td>\n",
              "      <td>0.072138</td>\n",
              "      <td>0.195871</td>\n",
              "    </tr>\n",
              "    <tr>\n",
              "      <th>avg_training_score</th>\n",
              "      <td>-0.000586</td>\n",
              "      <td>0.042517</td>\n",
              "      <td>-0.048380</td>\n",
              "      <td>0.075139</td>\n",
              "      <td>-0.038122</td>\n",
              "      <td>0.078391</td>\n",
              "      <td>0.072138</td>\n",
              "      <td>1.000000</td>\n",
              "      <td>0.181147</td>\n",
              "    </tr>\n",
              "    <tr>\n",
              "      <th>is_promoted</th>\n",
              "      <td>0.001206</td>\n",
              "      <td>-0.024896</td>\n",
              "      <td>-0.017166</td>\n",
              "      <td>0.159320</td>\n",
              "      <td>-0.010670</td>\n",
              "      <td>0.221582</td>\n",
              "      <td>0.195871</td>\n",
              "      <td>0.181147</td>\n",
              "      <td>1.000000</td>\n",
              "    </tr>\n",
              "  </tbody>\n",
              "</table>\n",
              "</div>"
            ],
            "text/plain": [
              "                      employee_id  ...  is_promoted\n",
              "employee_id              1.000000  ...     0.001206\n",
              "no_of_trainings         -0.005121  ...    -0.024896\n",
              "age                      0.000437  ...    -0.017166\n",
              "previous_year_rating     0.004533  ...     0.159320\n",
              "length_of_service        0.001274  ...    -0.010670\n",
              "KPIs_met >80%           -0.002501  ...     0.221582\n",
              "awards_won?              0.008420  ...     0.195871\n",
              "avg_training_score      -0.000586  ...     0.181147\n",
              "is_promoted              0.001206  ...     1.000000\n",
              "\n",
              "[9 rows x 9 columns]"
            ]
          },
          "metadata": {
            "tags": []
          },
          "execution_count": 7
        }
      ]
    },
    {
      "cell_type": "markdown",
      "metadata": {
        "id": "-Bz5nfJWPAOY",
        "colab_type": "text"
      },
      "source": [
        "#### There is no strong correlation between any two variables.\n",
        "### There is no strong correlation between any independent variable and dependent variable.\n",
        "### MDVP:Fo(Hz),MDVP:Flo(Hz),MDVP:Jitter(Abs),MDVP:Shimmer,MDVP:Shimmer(dB),Shimmer:APQ3,Shimmer:APQ5,MDVP:APQ,Shimmer:DDA,HNR,RPDE,spread1,spread2,D2,PPE have moderate correlation with the target variable - status\n",
        "### spread1 has a significant correlation with spread2,D2,PPE\n",
        "### Due to limited domain knowledge, let's not do any treatment for outliers"
      ]
    },
    {
      "cell_type": "code",
      "metadata": {
        "id": "sBHqDPhuPAOb",
        "colab_type": "code",
        "outputId": "6da1a51a-e123-4775-e4c9-b289c24ff9b0",
        "colab": {
          "base_uri": "https://localhost:8080/",
          "height": 269
        }
      },
      "source": [
        "# Correlation between is_promoted and other independent variables\n",
        "df.corr()[\"is_promoted\"]"
      ],
      "execution_count": 14,
      "outputs": [
        {
          "output_type": "execute_result",
          "data": {
            "text/plain": [
              "employee_id             0.001206\n",
              "department              0.000130\n",
              "region                  0.008841\n",
              "education               0.033492\n",
              "gender                 -0.011109\n",
              "recruitment_channel     0.002229\n",
              "no_of_trainings        -0.024896\n",
              "age                    -0.017166\n",
              "previous_year_rating    0.159320\n",
              "length_of_service      -0.010670\n",
              "KPIs_met >80%           0.221582\n",
              "awards_won?             0.195871\n",
              "avg_training_score      0.181147\n",
              "is_promoted             1.000000\n",
              "Name: is_promoted, dtype: float64"
            ]
          },
          "metadata": {
            "tags": []
          },
          "execution_count": 14
        }
      ]
    },
    {
      "cell_type": "code",
      "metadata": {
        "id": "KK1FS-SGS-61",
        "colab_type": "code",
        "colab": {
          "base_uri": "https://localhost:8080/",
          "height": 34
        },
        "outputId": "1db9a306-24a4-4561-ead9-00de01ca5160"
      },
      "source": [
        "X.shape"
      ],
      "execution_count": 24,
      "outputs": [
        {
          "output_type": "execute_result",
          "data": {
            "text/plain": [
              "(54808, 13)"
            ]
          },
          "metadata": {
            "tags": []
          },
          "execution_count": 24
        }
      ]
    },
    {
      "cell_type": "code",
      "metadata": {
        "id": "VmHiI4cyTLzp",
        "colab_type": "code",
        "colab": {
          "base_uri": "https://localhost:8080/",
          "height": 34
        },
        "outputId": "7ec405b5-fbe1-4dab-e725-6a0b717569a8"
      },
      "source": [
        "y.shape"
      ],
      "execution_count": 25,
      "outputs": [
        {
          "output_type": "execute_result",
          "data": {
            "text/plain": [
              "(54808,)"
            ]
          },
          "metadata": {
            "tags": []
          },
          "execution_count": 25
        }
      ]
    },
    {
      "cell_type": "markdown",
      "metadata": {
        "id": "YScaR6iWPAOt",
        "colab_type": "text"
      },
      "source": [
        "### Split dataset into training & test dataset  "
      ]
    },
    {
      "cell_type": "code",
      "metadata": {
        "id": "6kQYP6ykPAOw",
        "colab_type": "code",
        "colab": {}
      },
      "source": [
        "# Split the data into training and test set in the ratio of 70:30 respectively\n",
        "from sklearn.model_selection import train_test_split\n",
        "\n",
        "X_train, X_test, y_train, y_test = train_test_split(X, y,train_size=0.8, random_state=1)"
      ],
      "execution_count": 0,
      "outputs": []
    },
    {
      "cell_type": "markdown",
      "metadata": {
        "id": "R7KTGAmxPAO9",
        "colab_type": "text"
      },
      "source": [
        "### Create a default decision tree model using criterion = Entropy "
      ]
    },
    {
      "cell_type": "code",
      "metadata": {
        "id": "kLrx48hPPAO_",
        "colab_type": "code",
        "outputId": "5007b190-4c67-4b02-b148-293d80eda969",
        "colab": {
          "base_uri": "https://localhost:8080/",
          "height": 118
        }
      },
      "source": [
        "from sklearn.tree import DecisionTreeClassifier\n",
        "dtc = DecisionTreeClassifier(criterion='entropy')\n",
        "dtc.fit(X_train,y_train)\n"
      ],
      "execution_count": 27,
      "outputs": [
        {
          "output_type": "execute_result",
          "data": {
            "text/plain": [
              "DecisionTreeClassifier(ccp_alpha=0.0, class_weight=None, criterion='entropy',\n",
              "                       max_depth=None, max_features=None, max_leaf_nodes=None,\n",
              "                       min_impurity_decrease=0.0, min_impurity_split=None,\n",
              "                       min_samples_leaf=1, min_samples_split=2,\n",
              "                       min_weight_fraction_leaf=0.0, presort='deprecated',\n",
              "                       random_state=None, splitter='best')"
            ]
          },
          "metadata": {
            "tags": []
          },
          "execution_count": 27
        }
      ]
    },
    {
      "cell_type": "code",
      "metadata": {
        "id": "JaNcgJUPPAPK",
        "colab_type": "code",
        "outputId": "825bc35a-b143-4df0-9d4d-22240371b070",
        "colab": {
          "base_uri": "https://localhost:8080/",
          "height": 34
        }
      },
      "source": [
        "from sklearn.metrics import accuracy_score\n",
        "y_predict = dtc.predict(X_test)\n",
        "accuracy_score(y_test, y_predict)"
      ],
      "execution_count": 28,
      "outputs": [
        {
          "output_type": "execute_result",
          "data": {
            "text/plain": [
              "0.9017515051997811"
            ]
          },
          "metadata": {
            "tags": []
          },
          "execution_count": 28
        }
      ]
    },
    {
      "cell_type": "markdown",
      "metadata": {
        "id": "oI1DJqEYPAPU",
        "colab_type": "text"
      },
      "source": [
        "### Model Regularization "
      ]
    },
    {
      "cell_type": "code",
      "metadata": {
        "id": "nbrTJSuBPAPX",
        "colab_type": "code",
        "outputId": "ce2ba27f-545d-44a0-9d51-dd9e7b5cc77a",
        "colab": {
          "base_uri": "https://localhost:8080/",
          "height": 118
        }
      },
      "source": [
        "dtc2 = DecisionTreeClassifier(criterion='entropy',max_depth=5, max_leaf_nodes=2)\n",
        "dtc2.fit(X_train,y_train)"
      ],
      "execution_count": 29,
      "outputs": [
        {
          "output_type": "execute_result",
          "data": {
            "text/plain": [
              "DecisionTreeClassifier(ccp_alpha=0.0, class_weight=None, criterion='entropy',\n",
              "                       max_depth=5, max_features=None, max_leaf_nodes=2,\n",
              "                       min_impurity_decrease=0.0, min_impurity_split=None,\n",
              "                       min_samples_leaf=1, min_samples_split=2,\n",
              "                       min_weight_fraction_leaf=0.0, presort='deprecated',\n",
              "                       random_state=None, splitter='best')"
            ]
          },
          "metadata": {
            "tags": []
          },
          "execution_count": 29
        }
      ]
    },
    {
      "cell_type": "code",
      "metadata": {
        "id": "-p4goxqePAPh",
        "colab_type": "code",
        "outputId": "8602c538-1641-4aa4-93f6-79b4a69f30fb",
        "colab": {
          "base_uri": "https://localhost:8080/",
          "height": 34
        }
      },
      "source": [
        "y_predict = dtc2.predict(X_test)\n",
        "accuracy_score(y_test, y_predict)"
      ],
      "execution_count": 30,
      "outputs": [
        {
          "output_type": "execute_result",
          "data": {
            "text/plain": [
              "0.9139755519065864"
            ]
          },
          "metadata": {
            "tags": []
          },
          "execution_count": 30
        }
      ]
    },
    {
      "cell_type": "code",
      "metadata": {
        "id": "EyZJmjnEPAPq",
        "colab_type": "code",
        "outputId": "0f5a0f71-1b5a-4579-f3c5-9449c4c43b17",
        "colab": {
          "base_uri": "https://localhost:8080/",
          "height": 118
        }
      },
      "source": [
        "dtc3 = DecisionTreeClassifier(criterion='entropy',max_depth=5, max_leaf_nodes=5)\n",
        "dtc3.fit(X_train,y_train)"
      ],
      "execution_count": 31,
      "outputs": [
        {
          "output_type": "execute_result",
          "data": {
            "text/plain": [
              "DecisionTreeClassifier(ccp_alpha=0.0, class_weight=None, criterion='entropy',\n",
              "                       max_depth=5, max_features=None, max_leaf_nodes=5,\n",
              "                       min_impurity_decrease=0.0, min_impurity_split=None,\n",
              "                       min_samples_leaf=1, min_samples_split=2,\n",
              "                       min_weight_fraction_leaf=0.0, presort='deprecated',\n",
              "                       random_state=None, splitter='best')"
            ]
          },
          "metadata": {
            "tags": []
          },
          "execution_count": 31
        }
      ]
    },
    {
      "cell_type": "code",
      "metadata": {
        "id": "3dK9xGMlPAP3",
        "colab_type": "code",
        "outputId": "d2b20d6f-d222-4c87-ecaa-3bdfa8f78141",
        "colab": {
          "base_uri": "https://localhost:8080/",
          "height": 34
        }
      },
      "source": [
        "y_predict = dtc3.predict(X_test)\n",
        "accuracy_score(y_test, y_predict)"
      ],
      "execution_count": 32,
      "outputs": [
        {
          "output_type": "execute_result",
          "data": {
            "text/plain": [
              "0.919722678343368"
            ]
          },
          "metadata": {
            "tags": []
          },
          "execution_count": 32
        }
      ]
    },
    {
      "cell_type": "code",
      "metadata": {
        "id": "az32iImrPAQB",
        "colab_type": "code",
        "outputId": "e7099ed4-3327-4d6f-ec79-3c5e25f0f794",
        "colab": {
          "base_uri": "https://localhost:8080/",
          "height": 118
        }
      },
      "source": [
        "dtc3 = DecisionTreeClassifier(criterion='entropy',max_depth=5, max_leaf_nodes=10)\n",
        "dtc3.fit(X_train,y_train)"
      ],
      "execution_count": 33,
      "outputs": [
        {
          "output_type": "execute_result",
          "data": {
            "text/plain": [
              "DecisionTreeClassifier(ccp_alpha=0.0, class_weight=None, criterion='entropy',\n",
              "                       max_depth=5, max_features=None, max_leaf_nodes=10,\n",
              "                       min_impurity_decrease=0.0, min_impurity_split=None,\n",
              "                       min_samples_leaf=1, min_samples_split=2,\n",
              "                       min_weight_fraction_leaf=0.0, presort='deprecated',\n",
              "                       random_state=None, splitter='best')"
            ]
          },
          "metadata": {
            "tags": []
          },
          "execution_count": 33
        }
      ]
    },
    {
      "cell_type": "code",
      "metadata": {
        "id": "_ga5eU2DPAQJ",
        "colab_type": "code",
        "outputId": "d5d60846-ebe8-4e29-d404-ec6fa6f2692d",
        "colab": {
          "base_uri": "https://localhost:8080/",
          "height": 34
        }
      },
      "source": [
        "y_predict = dtc3.predict(X_test)\n",
        "accuracy_score(y_test, y_predict)"
      ],
      "execution_count": 34,
      "outputs": [
        {
          "output_type": "execute_result",
          "data": {
            "text/plain": [
              "0.9239189928845101"
            ]
          },
          "metadata": {
            "tags": []
          },
          "execution_count": 34
        }
      ]
    },
    {
      "cell_type": "code",
      "metadata": {
        "id": "-BGGMmIPPAQT",
        "colab_type": "code",
        "outputId": "83921c15-10da-4b4e-876a-0a39a6467c2a",
        "colab": {}
      },
      "source": [
        "dtc4 = DecisionTreeClassifier(criterion='entropy',max_depth=5, max_leaf_nodes=15)\n",
        "dtc4.fit(X_train,y_train)"
      ],
      "execution_count": 0,
      "outputs": [
        {
          "output_type": "execute_result",
          "data": {
            "text/plain": [
              "DecisionTreeClassifier(class_weight=None, criterion='entropy', max_depth=5,\n",
              "            max_features=None, max_leaf_nodes=15,\n",
              "            min_impurity_decrease=0.0, min_impurity_split=None,\n",
              "            min_samples_leaf=1, min_samples_split=2,\n",
              "            min_weight_fraction_leaf=0.0, presort=False, random_state=None,\n",
              "            splitter='best')"
            ]
          },
          "metadata": {
            "tags": []
          },
          "execution_count": 181
        }
      ]
    },
    {
      "cell_type": "code",
      "metadata": {
        "id": "KjRhQooUPAQc",
        "colab_type": "code",
        "outputId": "2917d9f6-af0a-46c1-fa00-7feb4bacfd0e",
        "colab": {}
      },
      "source": [
        "y_predict = dtc4.predict(X_test)\n",
        "accuracy_score(y_test, y_predict)"
      ],
      "execution_count": 0,
      "outputs": [
        {
          "output_type": "execute_result",
          "data": {
            "text/plain": [
              "0.847457627118644"
            ]
          },
          "metadata": {
            "tags": []
          },
          "execution_count": 182
        }
      ]
    },
    {
      "cell_type": "markdown",
      "metadata": {
        "id": "6O0UJSuDPAQj",
        "colab_type": "text"
      },
      "source": [
        "As you can see from the above models, the ideal no of leaf nodes is between 10 to 15. The ideal no of leaf_nodes and depth of the tree can be found out by running these model iteratively by tuning the hyperparameters. In the above case, I have showcased how accuracy values change for few cases. \n",
        "It would be a right call to use Grid search or ROC curve (which you will be learning later as a part of this program) to find out the optimal hyperparameters. "
      ]
    },
    {
      "cell_type": "markdown",
      "metadata": {
        "id": "9Nvupq7BPAQn",
        "colab_type": "text"
      },
      "source": [
        "### Cross tab & Accuracy of the models "
      ]
    },
    {
      "cell_type": "code",
      "metadata": {
        "id": "4TwFGX-VPAQq",
        "colab_type": "code",
        "outputId": "f9e2e8df-b42c-4352-ea37-123d7cd058ca",
        "colab": {}
      },
      "source": [
        "from sklearn.metrics import confusion_matrix\n",
        "\n",
        "pd.DataFrame(\n",
        "    confusion_matrix(y_test, y_predict),\n",
        "    columns=['Predicted Healthy', 'Predicted Parkinsons'],\n",
        "    index=['True Healthy', 'True Parkinsons']\n",
        ")"
      ],
      "execution_count": 0,
      "outputs": [
        {
          "output_type": "execute_result",
          "data": {
            "text/html": [
              "<div>\n",
              "<style scoped>\n",
              "    .dataframe tbody tr th:only-of-type {\n",
              "        vertical-align: middle;\n",
              "    }\n",
              "\n",
              "    .dataframe tbody tr th {\n",
              "        vertical-align: top;\n",
              "    }\n",
              "\n",
              "    .dataframe thead th {\n",
              "        text-align: right;\n",
              "    }\n",
              "</style>\n",
              "<table border=\"1\" class=\"dataframe\">\n",
              "  <thead>\n",
              "    <tr style=\"text-align: right;\">\n",
              "      <th></th>\n",
              "      <th>Predicted Healthy</th>\n",
              "      <th>Predicted Parkinsons</th>\n",
              "    </tr>\n",
              "  </thead>\n",
              "  <tbody>\n",
              "    <tr>\n",
              "      <th>True Healthy</th>\n",
              "      <td>14</td>\n",
              "      <td>5</td>\n",
              "    </tr>\n",
              "    <tr>\n",
              "      <th>True Parkinsons</th>\n",
              "      <td>1</td>\n",
              "      <td>39</td>\n",
              "    </tr>\n",
              "  </tbody>\n",
              "</table>\n",
              "</div>"
            ],
            "text/plain": [
              "                 Predicted Healthy  Predicted Parkinsons\n",
              "True Healthy                    14                     5\n",
              "True Parkinsons                  1                    39"
            ]
          },
          "metadata": {
            "tags": []
          },
          "execution_count": 53
        }
      ]
    },
    {
      "cell_type": "markdown",
      "metadata": {
        "id": "f1t8627hPAQy",
        "colab_type": "text"
      },
      "source": [
        "### Random forest classifier"
      ]
    },
    {
      "cell_type": "code",
      "metadata": {
        "id": "1xHeMtOMPAQ0",
        "colab_type": "code",
        "colab": {}
      },
      "source": [
        "# Use the classification algorithms and compare the models to find the best model\n",
        "from sklearn.ensemble import RandomForestClassifier\n",
        "\n",
        "random_forest = RandomForestClassifier()"
      ],
      "execution_count": 0,
      "outputs": []
    },
    {
      "cell_type": "code",
      "metadata": {
        "id": "u2VV85ZnPAQ9",
        "colab_type": "code",
        "outputId": "a432b947-36a1-43d5-af6a-e0ead74e0aa0",
        "colab": {}
      },
      "source": [
        "random_forest.fit(X_train, y_train)"
      ],
      "execution_count": 0,
      "outputs": [
        {
          "output_type": "execute_result",
          "data": {
            "text/plain": [
              "RandomForestClassifier(bootstrap=True, class_weight=None, criterion='gini',\n",
              "            max_depth=None, max_features='auto', max_leaf_nodes=None,\n",
              "            min_impurity_decrease=0.0, min_impurity_split=None,\n",
              "            min_samples_leaf=1, min_samples_split=2,\n",
              "            min_weight_fraction_leaf=0.0, n_estimators=10, n_jobs=1,\n",
              "            oob_score=False, random_state=None, verbose=0,\n",
              "            warm_start=False)"
            ]
          },
          "metadata": {
            "tags": []
          },
          "execution_count": 55
        }
      ]
    },
    {
      "cell_type": "code",
      "metadata": {
        "id": "AyyTK3m8PARG",
        "colab_type": "code",
        "outputId": "5a3a2595-b82f-4287-bc62-6f71df7ccd70",
        "colab": {}
      },
      "source": [
        "from sklearn.metrics import accuracy_score\n",
        "\n",
        "y_predict = random_forest.predict(X_test)\n",
        "accuracy_score(y_test, y_predict)"
      ],
      "execution_count": 0,
      "outputs": [
        {
          "output_type": "execute_result",
          "data": {
            "text/plain": [
              "0.8305084745762712"
            ]
          },
          "metadata": {
            "tags": []
          },
          "execution_count": 56
        }
      ]
    },
    {
      "cell_type": "code",
      "metadata": {
        "id": "A-_m3svrPARR",
        "colab_type": "code",
        "outputId": "8f5733da-746d-4375-e5d5-73fa471af73a",
        "colab": {}
      },
      "source": [
        "from sklearn.metrics import confusion_matrix\n",
        "\n",
        "pd.DataFrame(\n",
        "    confusion_matrix(y_test, y_predict),\n",
        "    columns=['Predicted Healthy', 'Predicted Parkinsons'],\n",
        "    index=['True Healthy', 'True Parkinsons']\n",
        ")"
      ],
      "execution_count": 0,
      "outputs": [
        {
          "output_type": "execute_result",
          "data": {
            "text/html": [
              "<div>\n",
              "<style scoped>\n",
              "    .dataframe tbody tr th:only-of-type {\n",
              "        vertical-align: middle;\n",
              "    }\n",
              "\n",
              "    .dataframe tbody tr th {\n",
              "        vertical-align: top;\n",
              "    }\n",
              "\n",
              "    .dataframe thead th {\n",
              "        text-align: right;\n",
              "    }\n",
              "</style>\n",
              "<table border=\"1\" class=\"dataframe\">\n",
              "  <thead>\n",
              "    <tr style=\"text-align: right;\">\n",
              "      <th></th>\n",
              "      <th>Predicted Healthy</th>\n",
              "      <th>Predicted Parkinsons</th>\n",
              "    </tr>\n",
              "  </thead>\n",
              "  <tbody>\n",
              "    <tr>\n",
              "      <th>True Healthy</th>\n",
              "      <td>12</td>\n",
              "      <td>7</td>\n",
              "    </tr>\n",
              "    <tr>\n",
              "      <th>True Parkinsons</th>\n",
              "      <td>3</td>\n",
              "      <td>37</td>\n",
              "    </tr>\n",
              "  </tbody>\n",
              "</table>\n",
              "</div>"
            ],
            "text/plain": [
              "                 Predicted Healthy  Predicted Parkinsons\n",
              "True Healthy                    12                     7\n",
              "True Parkinsons                  3                    37"
            ]
          },
          "metadata": {
            "tags": []
          },
          "execution_count": 57
        }
      ]
    },
    {
      "cell_type": "code",
      "metadata": {
        "id": "ASCwl5WmPARb",
        "colab_type": "code",
        "colab": {}
      },
      "source": [
        ""
      ],
      "execution_count": 0,
      "outputs": []
    }
  ]
}