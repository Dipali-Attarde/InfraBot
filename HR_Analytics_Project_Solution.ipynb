{
  "nbformat": 4,
  "nbformat_minor": 0,
  "metadata": {
    "kernelspec": {
      "name": "python3",
      "display_name": "Python 3"
    },
    "colab": {
      "name": "Copy of Copy of Parkinson_Ensemble_Project_Solution.ipynb",
      "provenance": [],
      "collapsed_sections": [],
      "include_colab_link": true
    },
    "accelerator": "GPU"
  },
  "cells": [
    {
      "cell_type": "markdown",
      "metadata": {
        "id": "view-in-github",
        "colab_type": "text"
      },
      "source": [
        "<a href=\"https://colab.research.google.com/github/Dipali-Attarde/InfraBot/blob/master/HR_Analytics_Project_Solution.ipynb\" target=\"_parent\"><img src=\"https://colab.research.google.com/assets/colab-badge.svg\" alt=\"Open In Colab\"/></a>"
      ]
    },
    {
      "cell_type": "code",
      "metadata": {
        "id": "OtqmX8VcPALv",
        "colab_type": "code",
        "colab": {}
      },
      "source": [
        "# Import required library\n",
        "import pandas as pd\n",
        "import seaborn as sns\n",
        "import matplotlib.pyplot as plt\n",
        "%matplotlib inline\n",
        "import xgboost as xgb\n",
        "from sklearn.metrics import f1_score\n",
        "from sklearn.metrics import confusion_matrix"
      ],
      "execution_count": 0,
      "outputs": []
    },
    {
      "cell_type": "code",
      "metadata": {
        "id": "FPhc3lw7gbPJ",
        "colab_type": "code",
        "outputId": "1ddec031-b498-4c2c-875a-96d18e45478e",
        "colab": {
          "base_uri": "https://localhost:8080/",
          "height": 122
        }
      },
      "source": [
        "from google.colab import drive\n",
        "drive.mount('/content/drive')"
      ],
      "execution_count": 2,
      "outputs": [
        {
          "output_type": "stream",
          "text": [
            "Go to this URL in a browser: https://accounts.google.com/o/oauth2/auth?client_id=947318989803-6bn6qk8qdgf4n4g3pfee6491hc0brc4i.apps.googleusercontent.com&redirect_uri=urn%3aietf%3awg%3aoauth%3a2.0%3aoob&response_type=code&scope=email%20https%3a%2f%2fwww.googleapis.com%2fauth%2fdocs.test%20https%3a%2f%2fwww.googleapis.com%2fauth%2fdrive%20https%3a%2f%2fwww.googleapis.com%2fauth%2fdrive.photos.readonly%20https%3a%2f%2fwww.googleapis.com%2fauth%2fpeopleapi.readonly\n",
            "\n",
            "Enter your authorization code:\n",
            "··········\n",
            "Mounted at /content/drive\n"
          ],
          "name": "stdout"
        }
      ]
    },
    {
      "cell_type": "code",
      "metadata": {
        "id": "csZAHNy0j6e5",
        "colab_type": "code",
        "colab": {}
      },
      "source": [
        "prj_path = \"/content/drive/My Drive/HR_Analytics/\""
      ],
      "execution_count": 0,
      "outputs": []
    },
    {
      "cell_type": "markdown",
      "metadata": {
        "id": "RNzqe9-fPAMN",
        "colab_type": "text"
      },
      "source": [
        "### Load the dataset "
      ]
    },
    {
      "cell_type": "code",
      "metadata": {
        "id": "h9M1TM4IPAMQ",
        "colab_type": "code",
        "outputId": "468e8066-285d-4e2b-b83d-4731ece28656",
        "colab": {
          "base_uri": "https://localhost:8080/",
          "height": 292
        }
      },
      "source": [
        "# Read the required data\n",
        "df = pd.read_csv(prj_path+'train_LZdllcl.csv')\n",
        "#print(df.head())\n",
        "df.head()"
      ],
      "execution_count": 4,
      "outputs": [
        {
          "output_type": "execute_result",
          "data": {
            "text/html": [
              "<div>\n",
              "<style scoped>\n",
              "    .dataframe tbody tr th:only-of-type {\n",
              "        vertical-align: middle;\n",
              "    }\n",
              "\n",
              "    .dataframe tbody tr th {\n",
              "        vertical-align: top;\n",
              "    }\n",
              "\n",
              "    .dataframe thead th {\n",
              "        text-align: right;\n",
              "    }\n",
              "</style>\n",
              "<table border=\"1\" class=\"dataframe\">\n",
              "  <thead>\n",
              "    <tr style=\"text-align: right;\">\n",
              "      <th></th>\n",
              "      <th>employee_id</th>\n",
              "      <th>department</th>\n",
              "      <th>region</th>\n",
              "      <th>education</th>\n",
              "      <th>gender</th>\n",
              "      <th>recruitment_channel</th>\n",
              "      <th>no_of_trainings</th>\n",
              "      <th>age</th>\n",
              "      <th>previous_year_rating</th>\n",
              "      <th>length_of_service</th>\n",
              "      <th>KPIs_met &gt;80%</th>\n",
              "      <th>awards_won?</th>\n",
              "      <th>avg_training_score</th>\n",
              "      <th>is_promoted</th>\n",
              "    </tr>\n",
              "  </thead>\n",
              "  <tbody>\n",
              "    <tr>\n",
              "      <th>0</th>\n",
              "      <td>65438</td>\n",
              "      <td>Sales &amp; Marketing</td>\n",
              "      <td>region_7</td>\n",
              "      <td>Master's &amp; above</td>\n",
              "      <td>f</td>\n",
              "      <td>sourcing</td>\n",
              "      <td>1</td>\n",
              "      <td>35</td>\n",
              "      <td>5.0</td>\n",
              "      <td>8</td>\n",
              "      <td>1</td>\n",
              "      <td>0</td>\n",
              "      <td>49</td>\n",
              "      <td>0</td>\n",
              "    </tr>\n",
              "    <tr>\n",
              "      <th>1</th>\n",
              "      <td>65141</td>\n",
              "      <td>Operations</td>\n",
              "      <td>region_22</td>\n",
              "      <td>Bachelor's</td>\n",
              "      <td>m</td>\n",
              "      <td>other</td>\n",
              "      <td>1</td>\n",
              "      <td>30</td>\n",
              "      <td>5.0</td>\n",
              "      <td>4</td>\n",
              "      <td>0</td>\n",
              "      <td>0</td>\n",
              "      <td>60</td>\n",
              "      <td>0</td>\n",
              "    </tr>\n",
              "    <tr>\n",
              "      <th>2</th>\n",
              "      <td>7513</td>\n",
              "      <td>Sales &amp; Marketing</td>\n",
              "      <td>region_19</td>\n",
              "      <td>Bachelor's</td>\n",
              "      <td>m</td>\n",
              "      <td>sourcing</td>\n",
              "      <td>1</td>\n",
              "      <td>34</td>\n",
              "      <td>3.0</td>\n",
              "      <td>7</td>\n",
              "      <td>0</td>\n",
              "      <td>0</td>\n",
              "      <td>50</td>\n",
              "      <td>0</td>\n",
              "    </tr>\n",
              "    <tr>\n",
              "      <th>3</th>\n",
              "      <td>2542</td>\n",
              "      <td>Sales &amp; Marketing</td>\n",
              "      <td>region_23</td>\n",
              "      <td>Bachelor's</td>\n",
              "      <td>m</td>\n",
              "      <td>other</td>\n",
              "      <td>2</td>\n",
              "      <td>39</td>\n",
              "      <td>1.0</td>\n",
              "      <td>10</td>\n",
              "      <td>0</td>\n",
              "      <td>0</td>\n",
              "      <td>50</td>\n",
              "      <td>0</td>\n",
              "    </tr>\n",
              "    <tr>\n",
              "      <th>4</th>\n",
              "      <td>48945</td>\n",
              "      <td>Technology</td>\n",
              "      <td>region_26</td>\n",
              "      <td>Bachelor's</td>\n",
              "      <td>m</td>\n",
              "      <td>other</td>\n",
              "      <td>1</td>\n",
              "      <td>45</td>\n",
              "      <td>3.0</td>\n",
              "      <td>2</td>\n",
              "      <td>0</td>\n",
              "      <td>0</td>\n",
              "      <td>73</td>\n",
              "      <td>0</td>\n",
              "    </tr>\n",
              "  </tbody>\n",
              "</table>\n",
              "</div>"
            ],
            "text/plain": [
              "   employee_id         department  ... avg_training_score is_promoted\n",
              "0        65438  Sales & Marketing  ...                 49           0\n",
              "1        65141         Operations  ...                 60           0\n",
              "2         7513  Sales & Marketing  ...                 50           0\n",
              "3         2542  Sales & Marketing  ...                 50           0\n",
              "4        48945         Technology  ...                 73           0\n",
              "\n",
              "[5 rows x 14 columns]"
            ]
          },
          "metadata": {
            "tags": []
          },
          "execution_count": 4
        }
      ]
    },
    {
      "cell_type": "markdown",
      "metadata": {
        "id": "wv2OAmsvPAMf",
        "colab_type": "text"
      },
      "source": [
        "#Attribute Information:\n",
        "\n",
        "employee_id - Unique ID for employee\n",
        "department - Department of employee\n",
        "region - Region of employment (unordered)\n",
        "education -\tEducation Level\n",
        "gender -\tGender of Employee\n",
        "recruitment_channel -\tChannel of recruitment for employee\n",
        "no_of_trainings -\tno of other trainings completed in previous year on soft skills, technical skills etc.\n",
        "age -\tAge of Employee\n",
        "previous_year_rating - Employee Rating for the previous year\n",
        "length_of_service -\tLength of service in years\n",
        "KPIs_met >80% -\tif Percent of KPIs(Key performance Indicators) >80% then 1 else 0\n",
        "awards_won? -\tif awards won during previous year then 1 else 0\n",
        "avg_training_score -\tAverage score in current training evaluations\n",
        "is_promoted -\t(Target) Recommended for promotion"
      ]
    },
    {
      "cell_type": "markdown",
      "metadata": {
        "id": "sM7eY50VPAMj",
        "colab_type": "text"
      },
      "source": [
        "### EDA "
      ]
    },
    {
      "cell_type": "code",
      "metadata": {
        "id": "UXoxTjWbPAMm",
        "colab_type": "code",
        "outputId": "dcd2a859-0657-4d9e-92de-f0e72e47bc06",
        "colab": {
          "base_uri": "https://localhost:8080/",
          "height": 357
        }
      },
      "source": [
        "df.info()\n",
        "print(df.shape)"
      ],
      "execution_count": 5,
      "outputs": [
        {
          "output_type": "stream",
          "text": [
            "<class 'pandas.core.frame.DataFrame'>\n",
            "RangeIndex: 54808 entries, 0 to 54807\n",
            "Data columns (total 14 columns):\n",
            "employee_id             54808 non-null int64\n",
            "department              54808 non-null object\n",
            "region                  54808 non-null object\n",
            "education               52399 non-null object\n",
            "gender                  54808 non-null object\n",
            "recruitment_channel     54808 non-null object\n",
            "no_of_trainings         54808 non-null int64\n",
            "age                     54808 non-null int64\n",
            "previous_year_rating    50684 non-null float64\n",
            "length_of_service       54808 non-null int64\n",
            "KPIs_met >80%           54808 non-null int64\n",
            "awards_won?             54808 non-null int64\n",
            "avg_training_score      54808 non-null int64\n",
            "is_promoted             54808 non-null int64\n",
            "dtypes: float64(1), int64(8), object(5)\n",
            "memory usage: 5.9+ MB\n",
            "(54808, 14)\n"
          ],
          "name": "stdout"
        }
      ]
    },
    {
      "cell_type": "code",
      "metadata": {
        "id": "6xMtqZAlPAM_",
        "colab_type": "code",
        "outputId": "cc8b8eaa-82bf-47a0-e1c4-eafccfcdf911",
        "colab": {
          "base_uri": "https://localhost:8080/",
          "height": 85
        }
      },
      "source": [
        "# is_promoted will be dependent variable, check it's distribution\n",
        "df.groupby(['is_promoted']).size()\n",
        "# Most of the employees are in not promoted category"
      ],
      "execution_count": 6,
      "outputs": [
        {
          "output_type": "execute_result",
          "data": {
            "text/plain": [
              "is_promoted\n",
              "0    50140\n",
              "1     4668\n",
              "dtype: int64"
            ]
          },
          "metadata": {
            "tags": []
          },
          "execution_count": 6
        }
      ]
    },
    {
      "cell_type": "code",
      "metadata": {
        "id": "JvIKk5JpRjEM",
        "colab_type": "code",
        "outputId": "ac109248-bc21-49f6-ad19-41b0f8bbf567",
        "colab": {
          "base_uri": "https://localhost:8080/",
          "height": 102
        }
      },
      "source": [
        "df.groupby(['education']).size()"
      ],
      "execution_count": 0,
      "outputs": [
        {
          "output_type": "execute_result",
          "data": {
            "text/plain": [
              "education\n",
              "Bachelor's          36669\n",
              "Below Secondary       805\n",
              "Master's & above    14925\n",
              "dtype: int64"
            ]
          },
          "metadata": {
            "tags": []
          },
          "execution_count": 38
        }
      ]
    },
    {
      "cell_type": "code",
      "metadata": {
        "id": "ur_RmJsGt_WC",
        "colab_type": "code",
        "outputId": "e2639ac4-36f9-4983-d7f8-0bf05dd77546",
        "colab": {
          "base_uri": "https://localhost:8080/",
          "height": 170
        }
      },
      "source": [
        "df['previous_year_rating'].describe()"
      ],
      "execution_count": 0,
      "outputs": [
        {
          "output_type": "execute_result",
          "data": {
            "text/plain": [
              "count    50684.000000\n",
              "mean         3.329256\n",
              "std          1.259993\n",
              "min          1.000000\n",
              "25%          3.000000\n",
              "50%          3.000000\n",
              "75%          4.000000\n",
              "max          5.000000\n",
              "Name: previous_year_rating, dtype: float64"
            ]
          },
          "metadata": {
            "tags": []
          },
          "execution_count": 37
        }
      ]
    },
    {
      "cell_type": "code",
      "metadata": {
        "id": "o741FxixuB4B",
        "colab_type": "code",
        "outputId": "23fbda5a-6da6-4be1-f8d3-c4d1ca9ea3a6",
        "colab": {
          "base_uri": "https://localhost:8080/",
          "height": 102
        }
      },
      "source": [
        "df['education'].describe()"
      ],
      "execution_count": 0,
      "outputs": [
        {
          "output_type": "execute_result",
          "data": {
            "text/plain": [
              "count          52399\n",
              "unique             3\n",
              "top       Bachelor's\n",
              "freq           36669\n",
              "Name: education, dtype: object"
            ]
          },
          "metadata": {
            "tags": []
          },
          "execution_count": 39
        }
      ]
    },
    {
      "cell_type": "code",
      "metadata": {
        "id": "7SZRuSjPu054",
        "colab_type": "code",
        "outputId": "7ede9e6c-59bb-4c34-c806-6521a18c27dd",
        "colab": {
          "base_uri": "https://localhost:8080/",
          "height": 34
        }
      },
      "source": [
        "# Check for missing values\n",
        "df.isnull().values.any()"
      ],
      "execution_count": 0,
      "outputs": [
        {
          "output_type": "execute_result",
          "data": {
            "text/plain": [
              "True"
            ]
          },
          "metadata": {
            "tags": []
          },
          "execution_count": 40
        }
      ]
    },
    {
      "cell_type": "code",
      "metadata": {
        "id": "j5FhFUw9u1jU",
        "colab_type": "code",
        "outputId": "d88fd20e-edfb-4339-b326-dea0a917f412",
        "colab": {
          "base_uri": "https://localhost:8080/",
          "height": 269
        }
      },
      "source": [
        "print(df.isnull().sum())"
      ],
      "execution_count": 0,
      "outputs": [
        {
          "output_type": "stream",
          "text": [
            "employee_id                0\n",
            "department                 0\n",
            "region                     0\n",
            "education               2409\n",
            "gender                     0\n",
            "recruitment_channel        0\n",
            "no_of_trainings            0\n",
            "age                        0\n",
            "previous_year_rating    4124\n",
            "length_of_service          0\n",
            "KPIs_met >80%              0\n",
            "awards_won?                0\n",
            "avg_training_score         0\n",
            "is_promoted                0\n",
            "dtype: int64\n"
          ],
          "name": "stdout"
        }
      ]
    },
    {
      "cell_type": "code",
      "metadata": {
        "id": "pMsqMiXLSoCr",
        "colab_type": "code",
        "colab": {}
      },
      "source": [
        "## Filling missing enteris with maximum occuring event\n",
        "df['previous_year_rating'].fillna(3.0, inplace=True)\n",
        "df['education'].fillna('Bachelor\\'s', inplace=True)"
      ],
      "execution_count": 0,
      "outputs": []
    },
    {
      "cell_type": "code",
      "metadata": {
        "id": "H2YO0ZspvD0d",
        "colab_type": "code",
        "outputId": "1f485727-760f-43d2-f3fd-c7dd1d70edd5",
        "colab": {
          "base_uri": "https://localhost:8080/",
          "height": 272
        }
      },
      "source": [
        "print(df.isnull().sum())"
      ],
      "execution_count": 8,
      "outputs": [
        {
          "output_type": "stream",
          "text": [
            "employee_id             0\n",
            "department              0\n",
            "region                  0\n",
            "education               0\n",
            "gender                  0\n",
            "recruitment_channel     0\n",
            "no_of_trainings         0\n",
            "age                     0\n",
            "previous_year_rating    0\n",
            "length_of_service       0\n",
            "KPIs_met >80%           0\n",
            "awards_won?             0\n",
            "avg_training_score      0\n",
            "is_promoted             0\n",
            "dtype: int64\n"
          ],
          "name": "stdout"
        }
      ]
    },
    {
      "cell_type": "code",
      "metadata": {
        "id": "Wlvs6mskuRso",
        "colab_type": "code",
        "colab": {}
      },
      "source": [
        "# The following code loops through each column and checks if the column type is object then converts those columns\n",
        "# into categorical with each distinct value becoming a category or code.\n",
        "\n",
        "for feature in df.columns: # Loop through all columns in the dataframe\n",
        "    if df[feature].dtype == 'object': # Only apply for columns with categorical strings\n",
        "        df[feature] = pd.Categorical(df[feature]).codes # Replace strings with an integer"
      ],
      "execution_count": 0,
      "outputs": []
    },
    {
      "cell_type": "code",
      "metadata": {
        "id": "uYU6VSzFuYXI",
        "colab_type": "code",
        "outputId": "70d8bc62-92ab-42ee-b3ea-32dda6967d23",
        "colab": {
          "base_uri": "https://localhost:8080/",
          "height": 340
        }
      },
      "source": [
        "df.info()"
      ],
      "execution_count": 10,
      "outputs": [
        {
          "output_type": "stream",
          "text": [
            "<class 'pandas.core.frame.DataFrame'>\n",
            "RangeIndex: 54808 entries, 0 to 54807\n",
            "Data columns (total 14 columns):\n",
            "employee_id             54808 non-null int64\n",
            "department              54808 non-null int8\n",
            "region                  54808 non-null int8\n",
            "education               54808 non-null int8\n",
            "gender                  54808 non-null int8\n",
            "recruitment_channel     54808 non-null int8\n",
            "no_of_trainings         54808 non-null int64\n",
            "age                     54808 non-null int64\n",
            "previous_year_rating    54808 non-null float64\n",
            "length_of_service       54808 non-null int64\n",
            "KPIs_met >80%           54808 non-null int64\n",
            "awards_won?             54808 non-null int64\n",
            "avg_training_score      54808 non-null int64\n",
            "is_promoted             54808 non-null int64\n",
            "dtypes: float64(1), int64(8), int8(5)\n",
            "memory usage: 4.0 MB\n"
          ],
          "name": "stdout"
        }
      ]
    },
    {
      "cell_type": "code",
      "metadata": {
        "id": "ynDtBpq-PANQ",
        "colab_type": "code",
        "outputId": "18680644-f8af-4a3d-9ab4-988067be81cd",
        "colab": {
          "base_uri": "https://localhost:8080/",
          "height": 462
        }
      },
      "source": [
        "# Check Summary Statistics\n",
        "df.describe().transpose()"
      ],
      "execution_count": 0,
      "outputs": [
        {
          "output_type": "execute_result",
          "data": {
            "text/html": [
              "<div>\n",
              "<style scoped>\n",
              "    .dataframe tbody tr th:only-of-type {\n",
              "        vertical-align: middle;\n",
              "    }\n",
              "\n",
              "    .dataframe tbody tr th {\n",
              "        vertical-align: top;\n",
              "    }\n",
              "\n",
              "    .dataframe thead th {\n",
              "        text-align: right;\n",
              "    }\n",
              "</style>\n",
              "<table border=\"1\" class=\"dataframe\">\n",
              "  <thead>\n",
              "    <tr style=\"text-align: right;\">\n",
              "      <th></th>\n",
              "      <th>count</th>\n",
              "      <th>mean</th>\n",
              "      <th>std</th>\n",
              "      <th>min</th>\n",
              "      <th>25%</th>\n",
              "      <th>50%</th>\n",
              "      <th>75%</th>\n",
              "      <th>max</th>\n",
              "    </tr>\n",
              "  </thead>\n",
              "  <tbody>\n",
              "    <tr>\n",
              "      <th>employee_id</th>\n",
              "      <td>54808.0</td>\n",
              "      <td>39195.830627</td>\n",
              "      <td>22586.581449</td>\n",
              "      <td>1.0</td>\n",
              "      <td>19669.75</td>\n",
              "      <td>39225.5</td>\n",
              "      <td>58730.5</td>\n",
              "      <td>78298.0</td>\n",
              "    </tr>\n",
              "    <tr>\n",
              "      <th>department</th>\n",
              "      <td>54808.0</td>\n",
              "      <td>4.972796</td>\n",
              "      <td>2.506046</td>\n",
              "      <td>0.0</td>\n",
              "      <td>4.00</td>\n",
              "      <td>5.0</td>\n",
              "      <td>7.0</td>\n",
              "      <td>8.0</td>\n",
              "    </tr>\n",
              "    <tr>\n",
              "      <th>region</th>\n",
              "      <td>54808.0</td>\n",
              "      <td>15.428970</td>\n",
              "      <td>8.764954</td>\n",
              "      <td>0.0</td>\n",
              "      <td>11.00</td>\n",
              "      <td>14.0</td>\n",
              "      <td>21.0</td>\n",
              "      <td>33.0</td>\n",
              "    </tr>\n",
              "    <tr>\n",
              "      <th>education</th>\n",
              "      <td>54808.0</td>\n",
              "      <td>0.559316</td>\n",
              "      <td>0.889452</td>\n",
              "      <td>0.0</td>\n",
              "      <td>0.00</td>\n",
              "      <td>0.0</td>\n",
              "      <td>2.0</td>\n",
              "      <td>2.0</td>\n",
              "    </tr>\n",
              "    <tr>\n",
              "      <th>gender</th>\n",
              "      <td>54808.0</td>\n",
              "      <td>0.702379</td>\n",
              "      <td>0.457216</td>\n",
              "      <td>0.0</td>\n",
              "      <td>0.00</td>\n",
              "      <td>1.0</td>\n",
              "      <td>1.0</td>\n",
              "      <td>1.0</td>\n",
              "    </tr>\n",
              "    <tr>\n",
              "      <th>recruitment_channel</th>\n",
              "      <td>54808.0</td>\n",
              "      <td>0.868158</td>\n",
              "      <td>0.980713</td>\n",
              "      <td>0.0</td>\n",
              "      <td>0.00</td>\n",
              "      <td>0.0</td>\n",
              "      <td>2.0</td>\n",
              "      <td>2.0</td>\n",
              "    </tr>\n",
              "    <tr>\n",
              "      <th>no_of_trainings</th>\n",
              "      <td>54808.0</td>\n",
              "      <td>1.253011</td>\n",
              "      <td>0.609264</td>\n",
              "      <td>1.0</td>\n",
              "      <td>1.00</td>\n",
              "      <td>1.0</td>\n",
              "      <td>1.0</td>\n",
              "      <td>10.0</td>\n",
              "    </tr>\n",
              "    <tr>\n",
              "      <th>age</th>\n",
              "      <td>54808.0</td>\n",
              "      <td>34.803915</td>\n",
              "      <td>7.660169</td>\n",
              "      <td>20.0</td>\n",
              "      <td>29.00</td>\n",
              "      <td>33.0</td>\n",
              "      <td>39.0</td>\n",
              "      <td>60.0</td>\n",
              "    </tr>\n",
              "    <tr>\n",
              "      <th>previous_year_rating</th>\n",
              "      <td>54808.0</td>\n",
              "      <td>3.304481</td>\n",
              "      <td>1.214770</td>\n",
              "      <td>1.0</td>\n",
              "      <td>3.00</td>\n",
              "      <td>3.0</td>\n",
              "      <td>4.0</td>\n",
              "      <td>5.0</td>\n",
              "    </tr>\n",
              "    <tr>\n",
              "      <th>length_of_service</th>\n",
              "      <td>54808.0</td>\n",
              "      <td>5.865512</td>\n",
              "      <td>4.265094</td>\n",
              "      <td>1.0</td>\n",
              "      <td>3.00</td>\n",
              "      <td>5.0</td>\n",
              "      <td>7.0</td>\n",
              "      <td>37.0</td>\n",
              "    </tr>\n",
              "    <tr>\n",
              "      <th>KPIs_met &gt;80%</th>\n",
              "      <td>54808.0</td>\n",
              "      <td>0.351974</td>\n",
              "      <td>0.477590</td>\n",
              "      <td>0.0</td>\n",
              "      <td>0.00</td>\n",
              "      <td>0.0</td>\n",
              "      <td>1.0</td>\n",
              "      <td>1.0</td>\n",
              "    </tr>\n",
              "    <tr>\n",
              "      <th>awards_won?</th>\n",
              "      <td>54808.0</td>\n",
              "      <td>0.023172</td>\n",
              "      <td>0.150450</td>\n",
              "      <td>0.0</td>\n",
              "      <td>0.00</td>\n",
              "      <td>0.0</td>\n",
              "      <td>0.0</td>\n",
              "      <td>1.0</td>\n",
              "    </tr>\n",
              "    <tr>\n",
              "      <th>avg_training_score</th>\n",
              "      <td>54808.0</td>\n",
              "      <td>63.386750</td>\n",
              "      <td>13.371559</td>\n",
              "      <td>39.0</td>\n",
              "      <td>51.00</td>\n",
              "      <td>60.0</td>\n",
              "      <td>76.0</td>\n",
              "      <td>99.0</td>\n",
              "    </tr>\n",
              "    <tr>\n",
              "      <th>is_promoted</th>\n",
              "      <td>54808.0</td>\n",
              "      <td>0.085170</td>\n",
              "      <td>0.279137</td>\n",
              "      <td>0.0</td>\n",
              "      <td>0.00</td>\n",
              "      <td>0.0</td>\n",
              "      <td>0.0</td>\n",
              "      <td>1.0</td>\n",
              "    </tr>\n",
              "  </tbody>\n",
              "</table>\n",
              "</div>"
            ],
            "text/plain": [
              "                        count          mean  ...      75%      max\n",
              "employee_id           54808.0  39195.830627  ...  58730.5  78298.0\n",
              "department            54808.0      4.972796  ...      7.0      8.0\n",
              "region                54808.0     15.428970  ...     21.0     33.0\n",
              "education             54808.0      0.559316  ...      2.0      2.0\n",
              "gender                54808.0      0.702379  ...      1.0      1.0\n",
              "recruitment_channel   54808.0      0.868158  ...      2.0      2.0\n",
              "no_of_trainings       54808.0      1.253011  ...      1.0     10.0\n",
              "age                   54808.0     34.803915  ...     39.0     60.0\n",
              "previous_year_rating  54808.0      3.304481  ...      4.0      5.0\n",
              "length_of_service     54808.0      5.865512  ...      7.0     37.0\n",
              "KPIs_met >80%         54808.0      0.351974  ...      1.0      1.0\n",
              "awards_won?           54808.0      0.023172  ...      0.0      1.0\n",
              "avg_training_score    54808.0     63.386750  ...     76.0     99.0\n",
              "is_promoted           54808.0      0.085170  ...      0.0      1.0\n",
              "\n",
              "[14 rows x 8 columns]"
            ]
          },
          "metadata": {
            "tags": []
          },
          "execution_count": 12
        }
      ]
    },
    {
      "cell_type": "markdown",
      "metadata": {
        "id": "uESAy-v2PANc",
        "colab_type": "text"
      },
      "source": [
        "### MDVP:Fo(Hz), MDVP:Fhi(Hz), MDVP:Flo(Hz), MDVP:PPQ, MDVP:RAP, MDVP:shimmer(dB) Mean and 50% values are not similar, seems outlier present\n",
        "### MDVP:Fo(Hz), MDVP:Fhi(Hz), MDVP:Flo(Hz): It's not normal data by distribution, most of the observations are spread more than 3 standard deviations on each side of the mean."
      ]
    },
    {
      "cell_type": "code",
      "metadata": {
        "id": "cY9j_94ZPANp",
        "colab_type": "code",
        "outputId": "01232e61-ae11-4568-f864-c8fa57cd4744",
        "colab": {
          "base_uri": "https://localhost:8080/",
          "height": 1000
        }
      },
      "source": [
        "# Plot the distribution for each variable\n",
        "df.hist(figsize=(15,20),bins = 50,xlabelsize=8,ylabelsize =8)\n",
        "plt.show()"
      ],
      "execution_count": 0,
      "outputs": [
        {
          "output_type": "display_data",
          "data": {
            "image/png": "[encoded data removed]",
            "text/plain": [
              "<Figure size 1080x1440 with 16 Axes>"
            ]
          },
          "metadata": {
            "tags": []
          }
        }
      ]
    },
    {
      "cell_type": "markdown",
      "metadata": {
        "id": "EFf8FwB4PAN4",
        "colab_type": "text"
      },
      "source": [
        "MDVP:Fhi(Hz): Distribution is right-skewed as mean is greater than the median and there seems several outliers in the data \n",
        "\n",
        "MDVP:PPQ, MDVP:RAP, MDVP:shimmer(dB) : Distribution is right-skewed and there seems several outliers in the data\n",
        "\n",
        "Spread1, Spread2 : Distribution seems uniform "
      ]
    },
    {
      "cell_type": "markdown",
      "metadata": {
        "id": "B0-xqTZ_PAN8",
        "colab_type": "text"
      },
      "source": [
        "### Univariate & Bivariate Analysis"
      ]
    },
    {
      "cell_type": "code",
      "metadata": {
        "id": "vL4cNp2pPAN_",
        "colab_type": "code",
        "outputId": "023b9f4f-e13d-489f-fb5d-989b739e055b",
        "colab": {
          "base_uri": "https://localhost:8080/",
          "height": 1000
        }
      },
      "source": [
        "sns.boxplot(x=\"is_promoted\", y=\"employee_id\", hue=\"is_promoted\", data=df, palette=\"PRGn\")\n",
        "plt.show()\n",
        "\n",
        "sns.boxplot(x=\"is_promoted\", y=\"department\", hue=\"is_promoted\", data=df, palette=\"PRGn\")\n",
        "plt.show()\n",
        "\n",
        "sns.boxplot(x=\"is_promoted\", y=\"region\", hue=\"is_promoted\", data=df, palette=\"PRGn\")\n",
        "plt.show()\n",
        "\n",
        "sns.boxplot(x=\"is_promoted\", y=\"education\", hue=\"is_promoted\", data=df, palette=\"PRGn\")\n",
        "plt.show()\n",
        "\n",
        "sns.boxplot(x=\"is_promoted\", y=\"gender\", hue=\"is_promoted\", data=df, palette=\"PRGn\")\n",
        "plt.show()\n",
        "\n",
        "sns.boxplot(x=\"is_promoted\", y=\"recruitment_channel\", hue=\"is_promoted\", data=df, palette=\"PRGn\")\n",
        "plt.show()\n",
        "\n",
        "sns.boxplot(x=\"is_promoted\", y=\"no_of_trainings\", hue=\"is_promoted\", data=df, palette=\"PRGn\")\n",
        "plt.show()\n",
        "\n",
        "sns.boxplot(x=\"is_promoted\", y=\"age\", hue=\"is_promoted\", data=df, palette=\"PRGn\")\n",
        "plt.show()\n",
        "\n",
        "sns.boxplot(x=\"is_promoted\", y=\"previous_year_rating\", hue=\"is_promoted\", data=df, palette=\"PRGn\")\n",
        "plt.show()\n",
        "\n",
        "sns.boxplot(x=\"is_promoted\", y=\"length_of_service\", hue=\"is_promoted\", data=df, palette=\"PRGn\")\n",
        "plt.show()\n",
        "\n",
        "sns.boxplot(x=\"is_promoted\", y=\"KPIs_met >80%\", hue=\"is_promoted\", data=df, palette=\"PRGn\")\n",
        "plt.show()\n",
        "\n",
        "sns.boxplot(x=\"is_promoted\", y=\"awards_won?\", hue=\"is_promoted\", data=df, palette=\"PRGn\")\n",
        "plt.show()\n",
        "\n",
        "sns.boxplot(x=\"is_promoted\", y=\"avg_training_score\", hue=\"is_promoted\", data=df, palette=\"PRGn\")\n",
        "plt.show()"
      ],
      "execution_count": 0,
      "outputs": [
        {
          "output_type": "display_data",
          "data": {
            "image/png": "[encoded data removed]",
            "text/plain": [
              "<Figure size 432x288 with 1 Axes>"
            ]
          },
          "metadata": {
            "tags": []
          }
        },
        {
          "output_type": "display_data",
          "data": {
            "image/png": "[encoded data removed]",
            "text/plain": [
              "<Figure size 432x288 with 1 Axes>"
            ]
          },
          "metadata": {
            "tags": []
          }
        },
        {
          "output_type": "display_data",
          "data": {
            "image/png": "[encoded data removed]",
            "text/plain": [
              "<Figure size 432x288 with 1 Axes>"
            ]
          },
          "metadata": {
            "tags": []
          }
        },
        {
          "output_type": "display_data",
          "data": {
            "image/png": "[encoded data removed]",
            "text/plain": [
              "<Figure size 432x288 with 1 Axes>"
            ]
          },
          "metadata": {
            "tags": []
          }
        },
        {
          "output_type": "display_data",
          "data": {
            "image/png": "[encoded data removed]",
            "text/plain": [
              "<Figure size 432x288 with 1 Axes>"
            ]
          },
          "metadata": {
            "tags": []
          }
        },
        {
          "output_type": "display_data",
          "data": {
            "image/png": "[encoded data removed]",
            "text/plain": [
              "<Figure size 432x288 with 1 Axes>"
            ]
          },
          "metadata": {
            "tags": []
          }
        },
        {
          "output_type": "display_data",
          "data": {
            "image/png": "[encoded data removed]",
            "text/plain": [
              "<Figure size 432x288 with 1 Axes>"
            ]
          },
          "metadata": {
            "tags": []
          }
        },
        {
          "output_type": "display_data",
          "data": {
            "image/png": "[encoded data removed]",
            "text/plain": [
              "<Figure size 432x288 with 1 Axes>"
            ]
          },
          "metadata": {
            "tags": []
          }
        },
        {
          "output_type": "display_data",
          "data": {
            "image/png": "[encoded data removed]",
            "text/plain": [
              "<Figure size 432x288 with 1 Axes>"
            ]
          },
          "metadata": {
            "tags": []
          }
        },
        {
          "output_type": "display_data",
          "data": {
            "image/png": "[encoded data removed]",
            "text/plain": [
              "<Figure size 432x288 with 1 Axes>"
            ]
          },
          "metadata": {
            "tags": []
          }
        },
        {
          "output_type": "display_data",
          "data": {
            "image/png": "[encoded data removed]",
            "text/plain": [
              "<Figure size 432x288 with 1 Axes>"
            ]
          },
          "metadata": {
            "tags": []
          }
        },
        {
          "output_type": "display_data",
          "data": {
            "image/png": "[encoded data removed]",
            "text/plain": [
              "<Figure size 432x288 with 1 Axes>"
            ]
          },
          "metadata": {
            "tags": []
          }
        },
        {
          "output_type": "display_data",
          "data": {
            "image/png": "[encoded data removed]",
            "text/plain": [
              "<Figure size 432x288 with 1 Axes>"
            ]
          },
          "metadata": {
            "tags": []
          }
        }
      ]
    },
    {
      "cell_type": "code",
      "metadata": {
        "id": "cMe7yQ4z145x",
        "colab_type": "code",
        "outputId": "ef0e79fe-092d-4cdd-e6e3-3e4695ba84a2",
        "colab": {
          "base_uri": "https://localhost:8080/",
          "height": 296
        }
      },
      "source": [
        "sns.boxplot(x=df['age'])"
      ],
      "execution_count": 0,
      "outputs": [
        {
          "output_type": "execute_result",
          "data": {
            "text/plain": [
              "<matplotlib.axes._subplots.AxesSubplot at 0x7f246897b198>"
            ]
          },
          "metadata": {
            "tags": []
          },
          "execution_count": 15
        },
        {
          "output_type": "display_data",
          "data": {
            "image/png": "[encoded data removed]",
            "text/plain": [
              "<Figure size 432x288 with 1 Axes>"
            ]
          },
          "metadata": {
            "tags": []
          }
        }
      ]
    },
    {
      "cell_type": "code",
      "metadata": {
        "id": "fiIP7mT32Wr9",
        "colab_type": "code",
        "outputId": "d0ba5dd3-09a3-47c2-af73-281518918d44",
        "colab": {
          "base_uri": "https://localhost:8080/",
          "height": 297
        }
      },
      "source": [
        "sns.boxplot(x=df['no_of_trainings'])"
      ],
      "execution_count": 0,
      "outputs": [
        {
          "output_type": "execute_result",
          "data": {
            "text/plain": [
              "<matplotlib.axes._subplots.AxesSubplot at 0x7f2468862be0>"
            ]
          },
          "metadata": {
            "tags": []
          },
          "execution_count": 16
        },
        {
          "output_type": "display_data",
          "data": {
            "image/png": "[encoded data removed]",
            "text/plain": [
              "<Figure size 432x288 with 1 Axes>"
            ]
          },
          "metadata": {
            "tags": []
          }
        }
      ]
    },
    {
      "cell_type": "code",
      "metadata": {
        "id": "VWjmUEXr2gLy",
        "colab_type": "code",
        "outputId": "aa4eb1ce-dab7-4ae8-cc5c-1773d5c0f54b",
        "colab": {
          "base_uri": "https://localhost:8080/",
          "height": 297
        }
      },
      "source": [
        "sns.boxplot(x=df['length_of_service'])"
      ],
      "execution_count": 0,
      "outputs": [
        {
          "output_type": "execute_result",
          "data": {
            "text/plain": [
              "<matplotlib.axes._subplots.AxesSubplot at 0x7f3e3292c390>"
            ]
          },
          "metadata": {
            "tags": []
          },
          "execution_count": 14
        },
        {
          "output_type": "display_data",
          "data": {
            "image/png": "[encoded data removed]",
            "text/plain": [
              "<Figure size 432x288 with 1 Axes>"
            ]
          },
          "metadata": {
            "tags": []
          }
        }
      ]
    },
    {
      "cell_type": "code",
      "metadata": {
        "id": "xGqOTMGc277k",
        "colab_type": "code",
        "outputId": "39ac553d-ce05-45b9-e360-d419556e4a03",
        "colab": {
          "base_uri": "https://localhost:8080/",
          "height": 1000
        }
      },
      "source": [
        "# Finding the relations between the variables.\n",
        "plt.figure(figsize=(20,10))\n",
        "c= df.corr()\n",
        "sns.heatmap(c,cmap='BrBG',annot=True)\n",
        "c"
      ],
      "execution_count": 0,
      "outputs": [
        {
          "output_type": "execute_result",
          "data": {
            "text/html": [
              "<div>\n",
              "<style scoped>\n",
              "    .dataframe tbody tr th:only-of-type {\n",
              "        vertical-align: middle;\n",
              "    }\n",
              "\n",
              "    .dataframe tbody tr th {\n",
              "        vertical-align: top;\n",
              "    }\n",
              "\n",
              "    .dataframe thead th {\n",
              "        text-align: right;\n",
              "    }\n",
              "</style>\n",
              "<table border=\"1\" class=\"dataframe\">\n",
              "  <thead>\n",
              "    <tr style=\"text-align: right;\">\n",
              "      <th></th>\n",
              "      <th>employee_id</th>\n",
              "      <th>department</th>\n",
              "      <th>region</th>\n",
              "      <th>education</th>\n",
              "      <th>gender</th>\n",
              "      <th>recruitment_channel</th>\n",
              "      <th>no_of_trainings</th>\n",
              "      <th>age</th>\n",
              "      <th>previous_year_rating</th>\n",
              "      <th>length_of_service</th>\n",
              "      <th>KPIs_met &gt;80%</th>\n",
              "      <th>awards_won?</th>\n",
              "      <th>avg_training_score</th>\n",
              "      <th>is_promoted</th>\n",
              "    </tr>\n",
              "  </thead>\n",
              "  <tbody>\n",
              "    <tr>\n",
              "      <th>employee_id</th>\n",
              "      <td>1.000000</td>\n",
              "      <td>-0.005187</td>\n",
              "      <td>-0.003423</td>\n",
              "      <td>0.002124</td>\n",
              "      <td>-0.001542</td>\n",
              "      <td>0.005960</td>\n",
              "      <td>-0.005121</td>\n",
              "      <td>0.000437</td>\n",
              "      <td>0.004209</td>\n",
              "      <td>0.001274</td>\n",
              "      <td>-0.002501</td>\n",
              "      <td>0.008420</td>\n",
              "      <td>-0.000586</td>\n",
              "      <td>0.001206</td>\n",
              "    </tr>\n",
              "    <tr>\n",
              "      <th>department</th>\n",
              "      <td>-0.005187</td>\n",
              "      <td>1.000000</td>\n",
              "      <td>-0.020592</td>\n",
              "      <td>0.043441</td>\n",
              "      <td>-0.030108</td>\n",
              "      <td>0.004732</td>\n",
              "      <td>0.014152</td>\n",
              "      <td>0.079162</td>\n",
              "      <td>-0.135561</td>\n",
              "      <td>0.059060</td>\n",
              "      <td>-0.088209</td>\n",
              "      <td>-0.002151</td>\n",
              "      <td>-0.251626</td>\n",
              "      <td>0.000130</td>\n",
              "    </tr>\n",
              "    <tr>\n",
              "      <th>region</th>\n",
              "      <td>-0.003423</td>\n",
              "      <td>-0.020592</td>\n",
              "      <td>1.000000</td>\n",
              "      <td>-0.003815</td>\n",
              "      <td>0.019730</td>\n",
              "      <td>-0.000920</td>\n",
              "      <td>-0.004590</td>\n",
              "      <td>-0.088918</td>\n",
              "      <td>-0.005977</td>\n",
              "      <td>-0.058939</td>\n",
              "      <td>-0.007664</td>\n",
              "      <td>0.000307</td>\n",
              "      <td>0.023572</td>\n",
              "      <td>0.008841</td>\n",
              "    </tr>\n",
              "    <tr>\n",
              "      <th>education</th>\n",
              "      <td>0.002124</td>\n",
              "      <td>0.043441</td>\n",
              "      <td>-0.003815</td>\n",
              "      <td>1.000000</td>\n",
              "      <td>-0.032368</td>\n",
              "      <td>-0.003564</td>\n",
              "      <td>-0.033469</td>\n",
              "      <td>0.339966</td>\n",
              "      <td>0.027393</td>\n",
              "      <td>0.233666</td>\n",
              "      <td>0.012123</td>\n",
              "      <td>-0.001409</td>\n",
              "      <td>0.032787</td>\n",
              "      <td>0.029257</td>\n",
              "    </tr>\n",
              "    <tr>\n",
              "      <th>gender</th>\n",
              "      <td>-0.001542</td>\n",
              "      <td>-0.030108</td>\n",
              "      <td>0.019730</td>\n",
              "      <td>-0.032368</td>\n",
              "      <td>1.000000</td>\n",
              "      <td>0.006567</td>\n",
              "      <td>0.084501</td>\n",
              "      <td>-0.016293</td>\n",
              "      <td>-0.024024</td>\n",
              "      <td>-0.019675</td>\n",
              "      <td>-0.037400</td>\n",
              "      <td>0.002381</td>\n",
              "      <td>-0.024494</td>\n",
              "      <td>-0.011109</td>\n",
              "    </tr>\n",
              "    <tr>\n",
              "      <th>recruitment_channel</th>\n",
              "      <td>0.005960</td>\n",
              "      <td>0.004732</td>\n",
              "      <td>-0.000920</td>\n",
              "      <td>-0.003564</td>\n",
              "      <td>0.006567</td>\n",
              "      <td>1.000000</td>\n",
              "      <td>-0.010405</td>\n",
              "      <td>-0.011400</td>\n",
              "      <td>0.005731</td>\n",
              "      <td>-0.002887</td>\n",
              "      <td>-0.000297</td>\n",
              "      <td>-0.005510</td>\n",
              "      <td>-0.002416</td>\n",
              "      <td>0.002229</td>\n",
              "    </tr>\n",
              "    <tr>\n",
              "      <th>no_of_trainings</th>\n",
              "      <td>-0.005121</td>\n",
              "      <td>0.014152</td>\n",
              "      <td>-0.004590</td>\n",
              "      <td>-0.033469</td>\n",
              "      <td>0.084501</td>\n",
              "      <td>-0.010405</td>\n",
              "      <td>1.000000</td>\n",
              "      <td>-0.081278</td>\n",
              "      <td>-0.061564</td>\n",
              "      <td>-0.057275</td>\n",
              "      <td>-0.045576</td>\n",
              "      <td>-0.007628</td>\n",
              "      <td>0.042517</td>\n",
              "      <td>-0.024896</td>\n",
              "    </tr>\n",
              "    <tr>\n",
              "      <th>age</th>\n",
              "      <td>0.000437</td>\n",
              "      <td>0.079162</td>\n",
              "      <td>-0.088918</td>\n",
              "      <td>0.339966</td>\n",
              "      <td>-0.016293</td>\n",
              "      <td>-0.011400</td>\n",
              "      <td>-0.081278</td>\n",
              "      <td>1.000000</td>\n",
              "      <td>0.026810</td>\n",
              "      <td>0.657111</td>\n",
              "      <td>-0.025592</td>\n",
              "      <td>-0.008169</td>\n",
              "      <td>-0.048380</td>\n",
              "      <td>-0.017166</td>\n",
              "    </tr>\n",
              "    <tr>\n",
              "      <th>previous_year_rating</th>\n",
              "      <td>0.004209</td>\n",
              "      <td>-0.135561</td>\n",
              "      <td>-0.005977</td>\n",
              "      <td>0.027393</td>\n",
              "      <td>-0.024024</td>\n",
              "      <td>0.005731</td>\n",
              "      <td>-0.061564</td>\n",
              "      <td>0.026810</td>\n",
              "      <td>1.000000</td>\n",
              "      <td>0.023504</td>\n",
              "      <td>0.337367</td>\n",
              "      <td>0.026587</td>\n",
              "      <td>0.071926</td>\n",
              "      <td>0.153230</td>\n",
              "    </tr>\n",
              "    <tr>\n",
              "      <th>length_of_service</th>\n",
              "      <td>0.001274</td>\n",
              "      <td>0.059060</td>\n",
              "      <td>-0.058939</td>\n",
              "      <td>0.233666</td>\n",
              "      <td>-0.019675</td>\n",
              "      <td>-0.002887</td>\n",
              "      <td>-0.057275</td>\n",
              "      <td>0.657111</td>\n",
              "      <td>0.023504</td>\n",
              "      <td>1.000000</td>\n",
              "      <td>-0.077693</td>\n",
              "      <td>-0.039927</td>\n",
              "      <td>-0.038122</td>\n",
              "      <td>-0.010670</td>\n",
              "    </tr>\n",
              "    <tr>\n",
              "      <th>KPIs_met &gt;80%</th>\n",
              "      <td>-0.002501</td>\n",
              "      <td>-0.088209</td>\n",
              "      <td>-0.007664</td>\n",
              "      <td>0.012123</td>\n",
              "      <td>-0.037400</td>\n",
              "      <td>-0.000297</td>\n",
              "      <td>-0.045576</td>\n",
              "      <td>-0.025592</td>\n",
              "      <td>0.337367</td>\n",
              "      <td>-0.077693</td>\n",
              "      <td>1.000000</td>\n",
              "      <td>0.097000</td>\n",
              "      <td>0.078391</td>\n",
              "      <td>0.221582</td>\n",
              "    </tr>\n",
              "    <tr>\n",
              "      <th>awards_won?</th>\n",
              "      <td>0.008420</td>\n",
              "      <td>-0.002151</td>\n",
              "      <td>0.000307</td>\n",
              "      <td>-0.001409</td>\n",
              "      <td>0.002381</td>\n",
              "      <td>-0.005510</td>\n",
              "      <td>-0.007628</td>\n",
              "      <td>-0.008169</td>\n",
              "      <td>0.026587</td>\n",
              "      <td>-0.039927</td>\n",
              "      <td>0.097000</td>\n",
              "      <td>1.000000</td>\n",
              "      <td>0.072138</td>\n",
              "      <td>0.195871</td>\n",
              "    </tr>\n",
              "    <tr>\n",
              "      <th>avg_training_score</th>\n",
              "      <td>-0.000586</td>\n",
              "      <td>-0.251626</td>\n",
              "      <td>0.023572</td>\n",
              "      <td>0.032787</td>\n",
              "      <td>-0.024494</td>\n",
              "      <td>-0.002416</td>\n",
              "      <td>0.042517</td>\n",
              "      <td>-0.048380</td>\n",
              "      <td>0.071926</td>\n",
              "      <td>-0.038122</td>\n",
              "      <td>0.078391</td>\n",
              "      <td>0.072138</td>\n",
              "      <td>1.000000</td>\n",
              "      <td>0.181147</td>\n",
              "    </tr>\n",
              "    <tr>\n",
              "      <th>is_promoted</th>\n",
              "      <td>0.001206</td>\n",
              "      <td>0.000130</td>\n",
              "      <td>0.008841</td>\n",
              "      <td>0.029257</td>\n",
              "      <td>-0.011109</td>\n",
              "      <td>0.002229</td>\n",
              "      <td>-0.024896</td>\n",
              "      <td>-0.017166</td>\n",
              "      <td>0.153230</td>\n",
              "      <td>-0.010670</td>\n",
              "      <td>0.221582</td>\n",
              "      <td>0.195871</td>\n",
              "      <td>0.181147</td>\n",
              "      <td>1.000000</td>\n",
              "    </tr>\n",
              "  </tbody>\n",
              "</table>\n",
              "</div>"
            ],
            "text/plain": [
              "                      employee_id  department  ...  avg_training_score  is_promoted\n",
              "employee_id              1.000000   -0.005187  ...           -0.000586     0.001206\n",
              "department              -0.005187    1.000000  ...           -0.251626     0.000130\n",
              "region                  -0.003423   -0.020592  ...            0.023572     0.008841\n",
              "education                0.002124    0.043441  ...            0.032787     0.029257\n",
              "gender                  -0.001542   -0.030108  ...           -0.024494    -0.011109\n",
              "recruitment_channel      0.005960    0.004732  ...           -0.002416     0.002229\n",
              "no_of_trainings         -0.005121    0.014152  ...            0.042517    -0.024896\n",
              "age                      0.000437    0.079162  ...           -0.048380    -0.017166\n",
              "previous_year_rating     0.004209   -0.135561  ...            0.071926     0.153230\n",
              "length_of_service        0.001274    0.059060  ...           -0.038122    -0.010670\n",
              "KPIs_met >80%           -0.002501   -0.088209  ...            0.078391     0.221582\n",
              "awards_won?              0.008420   -0.002151  ...            0.072138     0.195871\n",
              "avg_training_score      -0.000586   -0.251626  ...            1.000000     0.181147\n",
              "is_promoted              0.001206    0.000130  ...            0.181147     1.000000\n",
              "\n",
              "[14 rows x 14 columns]"
            ]
          },
          "metadata": {
            "tags": []
          },
          "execution_count": 49
        },
        {
          "output_type": "display_data",
          "data": {
            "image/png": "[encoded data removed]",
            "text/plain": [
              "<Figure size 1440x720 with 2 Axes>"
            ]
          },
          "metadata": {
            "tags": []
          }
        }
      ]
    },
    {
      "cell_type": "markdown",
      "metadata": {
        "id": "ZMbhJKvePAOJ",
        "colab_type": "text"
      },
      "source": [
        "###  MDVP:Fo(Hz) varies a lot on the upper quartile group which is shown by the long whisker on the upper fence. There are no outliers in the data .\n",
        "### MDVP:Fhi(Hz) varies a lot on the upper quartile group which is shown by the long whisker on the upper fence. Outliers are present in the data\n",
        "### MDVP:Flo(Hz) varies a lot on the upper quartile group which is shown by the long whisker on the upper fence. Outliers are present in the data\n",
        "### MDVP:Jitter(%) varies on the upper quartile group which is shown by the long whisker on the upper fence.Due to most of the datapoints are outliers the median is very low\n",
        "### MDVP:Jitter(Abs) varies on the upper quartile group. Presence of outliers makes the distribution right-skewed\n",
        "### MDVP:RAP varies on the upper quartile group especially for status=1 . Due to most of the datapoints are outliers the median is very low \n",
        "### NHR data variability/spread is very high and most of the datapoints are outliers . So the IQR is so narrow with median value close to the Q1 value\n"
      ]
    },
    {
      "cell_type": "code",
      "metadata": {
        "id": "saQrDICwPAON",
        "colab_type": "code",
        "outputId": "19dae5b8-4912-40fd-f832-6021339eb0cd",
        "colab": {
          "base_uri": "https://localhost:8080/",
          "height": 520
        }
      },
      "source": [
        "# Check the correlation\n",
        "df.corr()"
      ],
      "execution_count": 0,
      "outputs": [
        {
          "output_type": "execute_result",
          "data": {
            "text/html": [
              "<div>\n",
              "<style scoped>\n",
              "    .dataframe tbody tr th:only-of-type {\n",
              "        vertical-align: middle;\n",
              "    }\n",
              "\n",
              "    .dataframe tbody tr th {\n",
              "        vertical-align: top;\n",
              "    }\n",
              "\n",
              "    .dataframe thead th {\n",
              "        text-align: right;\n",
              "    }\n",
              "</style>\n",
              "<table border=\"1\" class=\"dataframe\">\n",
              "  <thead>\n",
              "    <tr style=\"text-align: right;\">\n",
              "      <th></th>\n",
              "      <th>employee_id</th>\n",
              "      <th>department</th>\n",
              "      <th>region</th>\n",
              "      <th>education</th>\n",
              "      <th>gender</th>\n",
              "      <th>recruitment_channel</th>\n",
              "      <th>no_of_trainings</th>\n",
              "      <th>age</th>\n",
              "      <th>previous_year_rating</th>\n",
              "      <th>length_of_service</th>\n",
              "      <th>KPIs_met &gt;80%</th>\n",
              "      <th>awards_won?</th>\n",
              "      <th>avg_training_score</th>\n",
              "      <th>is_promoted</th>\n",
              "    </tr>\n",
              "  </thead>\n",
              "  <tbody>\n",
              "    <tr>\n",
              "      <th>employee_id</th>\n",
              "      <td>1.000000</td>\n",
              "      <td>-0.005187</td>\n",
              "      <td>-0.003423</td>\n",
              "      <td>0.002124</td>\n",
              "      <td>-0.001542</td>\n",
              "      <td>0.005960</td>\n",
              "      <td>-0.005121</td>\n",
              "      <td>0.000437</td>\n",
              "      <td>0.004209</td>\n",
              "      <td>0.001274</td>\n",
              "      <td>-0.002501</td>\n",
              "      <td>0.008420</td>\n",
              "      <td>-0.000586</td>\n",
              "      <td>0.001206</td>\n",
              "    </tr>\n",
              "    <tr>\n",
              "      <th>department</th>\n",
              "      <td>-0.005187</td>\n",
              "      <td>1.000000</td>\n",
              "      <td>-0.020592</td>\n",
              "      <td>0.043441</td>\n",
              "      <td>-0.030108</td>\n",
              "      <td>0.004732</td>\n",
              "      <td>0.014152</td>\n",
              "      <td>0.079162</td>\n",
              "      <td>-0.135561</td>\n",
              "      <td>0.059060</td>\n",
              "      <td>-0.088209</td>\n",
              "      <td>-0.002151</td>\n",
              "      <td>-0.251626</td>\n",
              "      <td>0.000130</td>\n",
              "    </tr>\n",
              "    <tr>\n",
              "      <th>region</th>\n",
              "      <td>-0.003423</td>\n",
              "      <td>-0.020592</td>\n",
              "      <td>1.000000</td>\n",
              "      <td>-0.003815</td>\n",
              "      <td>0.019730</td>\n",
              "      <td>-0.000920</td>\n",
              "      <td>-0.004590</td>\n",
              "      <td>-0.088918</td>\n",
              "      <td>-0.005977</td>\n",
              "      <td>-0.058939</td>\n",
              "      <td>-0.007664</td>\n",
              "      <td>0.000307</td>\n",
              "      <td>0.023572</td>\n",
              "      <td>0.008841</td>\n",
              "    </tr>\n",
              "    <tr>\n",
              "      <th>education</th>\n",
              "      <td>0.002124</td>\n",
              "      <td>0.043441</td>\n",
              "      <td>-0.003815</td>\n",
              "      <td>1.000000</td>\n",
              "      <td>-0.032368</td>\n",
              "      <td>-0.003564</td>\n",
              "      <td>-0.033469</td>\n",
              "      <td>0.339966</td>\n",
              "      <td>0.027393</td>\n",
              "      <td>0.233666</td>\n",
              "      <td>0.012123</td>\n",
              "      <td>-0.001409</td>\n",
              "      <td>0.032787</td>\n",
              "      <td>0.029257</td>\n",
              "    </tr>\n",
              "    <tr>\n",
              "      <th>gender</th>\n",
              "      <td>-0.001542</td>\n",
              "      <td>-0.030108</td>\n",
              "      <td>0.019730</td>\n",
              "      <td>-0.032368</td>\n",
              "      <td>1.000000</td>\n",
              "      <td>0.006567</td>\n",
              "      <td>0.084501</td>\n",
              "      <td>-0.016293</td>\n",
              "      <td>-0.024024</td>\n",
              "      <td>-0.019675</td>\n",
              "      <td>-0.037400</td>\n",
              "      <td>0.002381</td>\n",
              "      <td>-0.024494</td>\n",
              "      <td>-0.011109</td>\n",
              "    </tr>\n",
              "    <tr>\n",
              "      <th>recruitment_channel</th>\n",
              "      <td>0.005960</td>\n",
              "      <td>0.004732</td>\n",
              "      <td>-0.000920</td>\n",
              "      <td>-0.003564</td>\n",
              "      <td>0.006567</td>\n",
              "      <td>1.000000</td>\n",
              "      <td>-0.010405</td>\n",
              "      <td>-0.011400</td>\n",
              "      <td>0.005731</td>\n",
              "      <td>-0.002887</td>\n",
              "      <td>-0.000297</td>\n",
              "      <td>-0.005510</td>\n",
              "      <td>-0.002416</td>\n",
              "      <td>0.002229</td>\n",
              "    </tr>\n",
              "    <tr>\n",
              "      <th>no_of_trainings</th>\n",
              "      <td>-0.005121</td>\n",
              "      <td>0.014152</td>\n",
              "      <td>-0.004590</td>\n",
              "      <td>-0.033469</td>\n",
              "      <td>0.084501</td>\n",
              "      <td>-0.010405</td>\n",
              "      <td>1.000000</td>\n",
              "      <td>-0.081278</td>\n",
              "      <td>-0.061564</td>\n",
              "      <td>-0.057275</td>\n",
              "      <td>-0.045576</td>\n",
              "      <td>-0.007628</td>\n",
              "      <td>0.042517</td>\n",
              "      <td>-0.024896</td>\n",
              "    </tr>\n",
              "    <tr>\n",
              "      <th>age</th>\n",
              "      <td>0.000437</td>\n",
              "      <td>0.079162</td>\n",
              "      <td>-0.088918</td>\n",
              "      <td>0.339966</td>\n",
              "      <td>-0.016293</td>\n",
              "      <td>-0.011400</td>\n",
              "      <td>-0.081278</td>\n",
              "      <td>1.000000</td>\n",
              "      <td>0.026810</td>\n",
              "      <td>0.657111</td>\n",
              "      <td>-0.025592</td>\n",
              "      <td>-0.008169</td>\n",
              "      <td>-0.048380</td>\n",
              "      <td>-0.017166</td>\n",
              "    </tr>\n",
              "    <tr>\n",
              "      <th>previous_year_rating</th>\n",
              "      <td>0.004209</td>\n",
              "      <td>-0.135561</td>\n",
              "      <td>-0.005977</td>\n",
              "      <td>0.027393</td>\n",
              "      <td>-0.024024</td>\n",
              "      <td>0.005731</td>\n",
              "      <td>-0.061564</td>\n",
              "      <td>0.026810</td>\n",
              "      <td>1.000000</td>\n",
              "      <td>0.023504</td>\n",
              "      <td>0.337367</td>\n",
              "      <td>0.026587</td>\n",
              "      <td>0.071926</td>\n",
              "      <td>0.153230</td>\n",
              "    </tr>\n",
              "    <tr>\n",
              "      <th>length_of_service</th>\n",
              "      <td>0.001274</td>\n",
              "      <td>0.059060</td>\n",
              "      <td>-0.058939</td>\n",
              "      <td>0.233666</td>\n",
              "      <td>-0.019675</td>\n",
              "      <td>-0.002887</td>\n",
              "      <td>-0.057275</td>\n",
              "      <td>0.657111</td>\n",
              "      <td>0.023504</td>\n",
              "      <td>1.000000</td>\n",
              "      <td>-0.077693</td>\n",
              "      <td>-0.039927</td>\n",
              "      <td>-0.038122</td>\n",
              "      <td>-0.010670</td>\n",
              "    </tr>\n",
              "    <tr>\n",
              "      <th>KPIs_met &gt;80%</th>\n",
              "      <td>-0.002501</td>\n",
              "      <td>-0.088209</td>\n",
              "      <td>-0.007664</td>\n",
              "      <td>0.012123</td>\n",
              "      <td>-0.037400</td>\n",
              "      <td>-0.000297</td>\n",
              "      <td>-0.045576</td>\n",
              "      <td>-0.025592</td>\n",
              "      <td>0.337367</td>\n",
              "      <td>-0.077693</td>\n",
              "      <td>1.000000</td>\n",
              "      <td>0.097000</td>\n",
              "      <td>0.078391</td>\n",
              "      <td>0.221582</td>\n",
              "    </tr>\n",
              "    <tr>\n",
              "      <th>awards_won?</th>\n",
              "      <td>0.008420</td>\n",
              "      <td>-0.002151</td>\n",
              "      <td>0.000307</td>\n",
              "      <td>-0.001409</td>\n",
              "      <td>0.002381</td>\n",
              "      <td>-0.005510</td>\n",
              "      <td>-0.007628</td>\n",
              "      <td>-0.008169</td>\n",
              "      <td>0.026587</td>\n",
              "      <td>-0.039927</td>\n",
              "      <td>0.097000</td>\n",
              "      <td>1.000000</td>\n",
              "      <td>0.072138</td>\n",
              "      <td>0.195871</td>\n",
              "    </tr>\n",
              "    <tr>\n",
              "      <th>avg_training_score</th>\n",
              "      <td>-0.000586</td>\n",
              "      <td>-0.251626</td>\n",
              "      <td>0.023572</td>\n",
              "      <td>0.032787</td>\n",
              "      <td>-0.024494</td>\n",
              "      <td>-0.002416</td>\n",
              "      <td>0.042517</td>\n",
              "      <td>-0.048380</td>\n",
              "      <td>0.071926</td>\n",
              "      <td>-0.038122</td>\n",
              "      <td>0.078391</td>\n",
              "      <td>0.072138</td>\n",
              "      <td>1.000000</td>\n",
              "      <td>0.181147</td>\n",
              "    </tr>\n",
              "    <tr>\n",
              "      <th>is_promoted</th>\n",
              "      <td>0.001206</td>\n",
              "      <td>0.000130</td>\n",
              "      <td>0.008841</td>\n",
              "      <td>0.029257</td>\n",
              "      <td>-0.011109</td>\n",
              "      <td>0.002229</td>\n",
              "      <td>-0.024896</td>\n",
              "      <td>-0.017166</td>\n",
              "      <td>0.153230</td>\n",
              "      <td>-0.010670</td>\n",
              "      <td>0.221582</td>\n",
              "      <td>0.195871</td>\n",
              "      <td>0.181147</td>\n",
              "      <td>1.000000</td>\n",
              "    </tr>\n",
              "  </tbody>\n",
              "</table>\n",
              "</div>"
            ],
            "text/plain": [
              "                      employee_id  department  ...  avg_training_score  is_promoted\n",
              "employee_id              1.000000   -0.005187  ...           -0.000586     0.001206\n",
              "department              -0.005187    1.000000  ...           -0.251626     0.000130\n",
              "region                  -0.003423   -0.020592  ...            0.023572     0.008841\n",
              "education                0.002124    0.043441  ...            0.032787     0.029257\n",
              "gender                  -0.001542   -0.030108  ...           -0.024494    -0.011109\n",
              "recruitment_channel      0.005960    0.004732  ...           -0.002416     0.002229\n",
              "no_of_trainings         -0.005121    0.014152  ...            0.042517    -0.024896\n",
              "age                      0.000437    0.079162  ...           -0.048380    -0.017166\n",
              "previous_year_rating     0.004209   -0.135561  ...            0.071926     0.153230\n",
              "length_of_service        0.001274    0.059060  ...           -0.038122    -0.010670\n",
              "KPIs_met >80%           -0.002501   -0.088209  ...            0.078391     0.221582\n",
              "awards_won?              0.008420   -0.002151  ...            0.072138     0.195871\n",
              "avg_training_score      -0.000586   -0.251626  ...            1.000000     0.181147\n",
              "is_promoted              0.001206    0.000130  ...            0.181147     1.000000\n",
              "\n",
              "[14 rows x 14 columns]"
            ]
          },
          "metadata": {
            "tags": []
          },
          "execution_count": 50
        }
      ]
    },
    {
      "cell_type": "markdown",
      "metadata": {
        "id": "-Bz5nfJWPAOY",
        "colab_type": "text"
      },
      "source": [
        "#### There is no strong correlation between any two variables.\n",
        "### There is no strong correlation between any independent variable and dependent variable.\n",
        "### MDVP:Fo(Hz),MDVP:Flo(Hz),MDVP:Jitter(Abs),MDVP:Shimmer,MDVP:Shimmer(dB),Shimmer:APQ3,Shimmer:APQ5,MDVP:APQ,Shimmer:DDA,HNR,RPDE,spread1,spread2,D2,PPE have moderate correlation with the target variable - status\n",
        "### spread1 has a significant correlation with spread2,D2,PPE\n",
        "### Due to limited domain knowledge, let's not do any treatment for outliers"
      ]
    },
    {
      "cell_type": "code",
      "metadata": {
        "id": "sBHqDPhuPAOb",
        "colab_type": "code",
        "outputId": "15fa3093-2236-42b7-c841-9f8a6d86516a",
        "colab": {
          "base_uri": "https://localhost:8080/",
          "height": 272
        }
      },
      "source": [
        "# Correlation between is_promoted and other independent variables\n",
        "df.corr()[\"is_promoted\"]"
      ],
      "execution_count": 0,
      "outputs": [
        {
          "output_type": "execute_result",
          "data": {
            "text/plain": [
              "employee_id             0.001206\n",
              "department              0.000130\n",
              "region                  0.008841\n",
              "education               0.029257\n",
              "gender                 -0.011109\n",
              "recruitment_channel     0.002229\n",
              "no_of_trainings        -0.024896\n",
              "age                    -0.017166\n",
              "previous_year_rating    0.153230\n",
              "length_of_service      -0.010670\n",
              "KPIs_met >80%           0.221582\n",
              "awards_won?             0.195871\n",
              "avg_training_score      0.181147\n",
              "is_promoted             1.000000\n",
              "Name: is_promoted, dtype: float64"
            ]
          },
          "metadata": {
            "tags": []
          },
          "execution_count": 51
        }
      ]
    },
    {
      "cell_type": "code",
      "metadata": {
        "id": "g2BXVqbGtRDo",
        "colab_type": "code",
        "colab": {}
      },
      "source": [
        "# Making dependent and in dependent variables seperated\n",
        "X = df.drop('is_promoted', axis=1)\n",
        "y = df['is_promoted']"
      ],
      "execution_count": 0,
      "outputs": []
    },
    {
      "cell_type": "code",
      "metadata": {
        "id": "KK1FS-SGS-61",
        "colab_type": "code",
        "outputId": "4140e958-a6e6-4dd2-f006-0e3ef74c7dcd",
        "colab": {
          "base_uri": "https://localhost:8080/",
          "height": 34
        }
      },
      "source": [
        "X.shape"
      ],
      "execution_count": 12,
      "outputs": [
        {
          "output_type": "execute_result",
          "data": {
            "text/plain": [
              "(54808, 13)"
            ]
          },
          "metadata": {
            "tags": []
          },
          "execution_count": 12
        }
      ]
    },
    {
      "cell_type": "code",
      "metadata": {
        "id": "VmHiI4cyTLzp",
        "colab_type": "code",
        "outputId": "6dc27fb2-5231-4548-91ce-027d7d5b529c",
        "colab": {
          "base_uri": "https://localhost:8080/",
          "height": 34
        }
      },
      "source": [
        "y.shape"
      ],
      "execution_count": 13,
      "outputs": [
        {
          "output_type": "execute_result",
          "data": {
            "text/plain": [
              "(54808,)"
            ]
          },
          "metadata": {
            "tags": []
          },
          "execution_count": 13
        }
      ]
    },
    {
      "cell_type": "markdown",
      "metadata": {
        "id": "YScaR6iWPAOt",
        "colab_type": "text"
      },
      "source": [
        "### Split dataset into training & test dataset  "
      ]
    },
    {
      "cell_type": "code",
      "metadata": {
        "id": "6kQYP6ykPAOw",
        "colab_type": "code",
        "colab": {}
      },
      "source": [
        "# Split the data into training and test set in the ratio of 70:30 respectively\n",
        "from sklearn.model_selection import train_test_split\n",
        "\n",
        "X_train, X_test, y_train, y_test = train_test_split(X, y,train_size=0.8, random_state=1)"
      ],
      "execution_count": 0,
      "outputs": []
    },
    {
      "cell_type": "markdown",
      "metadata": {
        "id": "R7KTGAmxPAO9",
        "colab_type": "text"
      },
      "source": [
        "### Create a default decision tree model using criterion = Entropy "
      ]
    },
    {
      "cell_type": "code",
      "metadata": {
        "id": "kLrx48hPPAO_",
        "colab_type": "code",
        "outputId": "01dd8921-3aa7-461c-ddfc-0d8bad58721e",
        "colab": {
          "base_uri": "https://localhost:8080/",
          "height": 119
        }
      },
      "source": [
        "from sklearn.tree import DecisionTreeClassifier\n",
        "dtc = DecisionTreeClassifier(criterion='entropy')\n",
        "dtc.fit(X_train,y_train)"
      ],
      "execution_count": 15,
      "outputs": [
        {
          "output_type": "execute_result",
          "data": {
            "text/plain": [
              "DecisionTreeClassifier(ccp_alpha=0.0, class_weight=None, criterion='entropy',\n",
              "                       max_depth=None, max_features=None, max_leaf_nodes=None,\n",
              "                       min_impurity_decrease=0.0, min_impurity_split=None,\n",
              "                       min_samples_leaf=1, min_samples_split=2,\n",
              "                       min_weight_fraction_leaf=0.0, presort='deprecated',\n",
              "                       random_state=None, splitter='best')"
            ]
          },
          "metadata": {
            "tags": []
          },
          "execution_count": 15
        }
      ]
    },
    {
      "cell_type": "code",
      "metadata": {
        "id": "JaNcgJUPPAPK",
        "colab_type": "code",
        "outputId": "08f60d3b-e23d-4ed6-aeea-8ccc50f91992",
        "colab": {
          "base_uri": "https://localhost:8080/",
          "height": 34
        }
      },
      "source": [
        "from sklearn.metrics import accuracy_score\n",
        "y_predict = dtc.predict(X_test)\n",
        "accuracy_score(y_test, y_predict)"
      ],
      "execution_count": 16,
      "outputs": [
        {
          "output_type": "execute_result",
          "data": {
            "text/plain": [
              "0.903484765553731"
            ]
          },
          "metadata": {
            "tags": []
          },
          "execution_count": 16
        }
      ]
    },
    {
      "cell_type": "markdown",
      "metadata": {
        "id": "oI1DJqEYPAPU",
        "colab_type": "text"
      },
      "source": [
        "### Model Regularization "
      ]
    },
    {
      "cell_type": "code",
      "metadata": {
        "id": "nbrTJSuBPAPX",
        "colab_type": "code",
        "outputId": "d9c01e29-3957-4a17-a007-551fd20804cc",
        "colab": {
          "base_uri": "https://localhost:8080/",
          "height": 119
        }
      },
      "source": [
        "dtc2 = DecisionTreeClassifier(criterion='entropy',max_depth=5, max_leaf_nodes=2)\n",
        "dtc2.fit(X_train,y_train)"
      ],
      "execution_count": 0,
      "outputs": [
        {
          "output_type": "execute_result",
          "data": {
            "text/plain": [
              "DecisionTreeClassifier(ccp_alpha=0.0, class_weight=None, criterion='entropy',\n",
              "                       max_depth=5, max_features=None, max_leaf_nodes=2,\n",
              "                       min_impurity_decrease=0.0, min_impurity_split=None,\n",
              "                       min_samples_leaf=1, min_samples_split=2,\n",
              "                       min_weight_fraction_leaf=0.0, presort='deprecated',\n",
              "                       random_state=None, splitter='best')"
            ]
          },
          "metadata": {
            "tags": []
          },
          "execution_count": 58
        }
      ]
    },
    {
      "cell_type": "code",
      "metadata": {
        "id": "-p4goxqePAPh",
        "colab_type": "code",
        "outputId": "2c58c89b-7e6c-48cb-e7f8-815bdd32f72c",
        "colab": {
          "base_uri": "https://localhost:8080/",
          "height": 34
        }
      },
      "source": [
        "y_predict = dtc2.predict(X_test)\n",
        "accuracy_score(y_test, y_predict)"
      ],
      "execution_count": 0,
      "outputs": [
        {
          "output_type": "execute_result",
          "data": {
            "text/plain": [
              "0.9139755519065864"
            ]
          },
          "metadata": {
            "tags": []
          },
          "execution_count": 59
        }
      ]
    },
    {
      "cell_type": "code",
      "metadata": {
        "id": "EyZJmjnEPAPq",
        "colab_type": "code",
        "outputId": "3e3a049e-c19c-44f2-9031-ab02832b8594",
        "colab": {
          "base_uri": "https://localhost:8080/",
          "height": 119
        }
      },
      "source": [
        "dtc3 = DecisionTreeClassifier(criterion='entropy',max_depth=5, max_leaf_nodes=5)\n",
        "dtc3.fit(X_train,y_train)"
      ],
      "execution_count": 0,
      "outputs": [
        {
          "output_type": "execute_result",
          "data": {
            "text/plain": [
              "DecisionTreeClassifier(ccp_alpha=0.0, class_weight=None, criterion='entropy',\n",
              "                       max_depth=5, max_features=None, max_leaf_nodes=5,\n",
              "                       min_impurity_decrease=0.0, min_impurity_split=None,\n",
              "                       min_samples_leaf=1, min_samples_split=2,\n",
              "                       min_weight_fraction_leaf=0.0, presort='deprecated',\n",
              "                       random_state=None, splitter='best')"
            ]
          },
          "metadata": {
            "tags": []
          },
          "execution_count": 60
        }
      ]
    },
    {
      "cell_type": "code",
      "metadata": {
        "id": "3dK9xGMlPAP3",
        "colab_type": "code",
        "outputId": "1da93b1f-ace6-4ffd-f82d-f4471b980940",
        "colab": {
          "base_uri": "https://localhost:8080/",
          "height": 34
        }
      },
      "source": [
        "y_predict = dtc3.predict(X_test)\n",
        "accuracy_score(y_test, y_predict)"
      ],
      "execution_count": 0,
      "outputs": [
        {
          "output_type": "execute_result",
          "data": {
            "text/plain": [
              "0.919722678343368"
            ]
          },
          "metadata": {
            "tags": []
          },
          "execution_count": 61
        }
      ]
    },
    {
      "cell_type": "code",
      "metadata": {
        "id": "-BGGMmIPPAQT",
        "colab_type": "code",
        "outputId": "4e47bf61-04f7-4d99-fbed-33858c2d1161",
        "colab": {
          "base_uri": "https://localhost:8080/",
          "height": 119
        }
      },
      "source": [
        "dtc4 = DecisionTreeClassifier(criterion='entropy',max_depth=5, max_leaf_nodes=15)\n",
        "dtc4.fit(X_train,y_train)"
      ],
      "execution_count": 0,
      "outputs": [
        {
          "output_type": "execute_result",
          "data": {
            "text/plain": [
              "DecisionTreeClassifier(ccp_alpha=0.0, class_weight=None, criterion='entropy',\n",
              "                       max_depth=5, max_features=None, max_leaf_nodes=15,\n",
              "                       min_impurity_decrease=0.0, min_impurity_split=None,\n",
              "                       min_samples_leaf=1, min_samples_split=2,\n",
              "                       min_weight_fraction_leaf=0.0, presort='deprecated',\n",
              "                       random_state=None, splitter='best')"
            ]
          },
          "metadata": {
            "tags": []
          },
          "execution_count": 62
        }
      ]
    },
    {
      "cell_type": "code",
      "metadata": {
        "id": "KjRhQooUPAQc",
        "colab_type": "code",
        "outputId": "55165f07-37b4-4b70-e77a-fe38279eef73",
        "colab": {
          "base_uri": "https://localhost:8080/",
          "height": 34
        }
      },
      "source": [
        "y_predict = dtc4.predict(X_test)\n",
        "accuracy_score(y_test, y_predict)"
      ],
      "execution_count": 0,
      "outputs": [
        {
          "output_type": "execute_result",
          "data": {
            "text/plain": [
              "0.9239189928845101"
            ]
          },
          "metadata": {
            "tags": []
          },
          "execution_count": 63
        }
      ]
    },
    {
      "cell_type": "code",
      "metadata": {
        "id": "f0CKFAODX_KC",
        "colab_type": "code",
        "outputId": "a41ec9ce-2419-4ff3-c15a-7bd069eb3311",
        "colab": {
          "base_uri": "https://localhost:8080/",
          "height": 34
        }
      },
      "source": [
        "from sklearn.metrics import f1_score\n",
        "f1_score(y_test, y_predict)"
      ],
      "execution_count": 0,
      "outputs": [
        {
          "output_type": "execute_result",
          "data": {
            "text/plain": [
              "0.4476834981780322"
            ]
          },
          "metadata": {
            "tags": []
          },
          "execution_count": 19
        }
      ]
    },
    {
      "cell_type": "markdown",
      "metadata": {
        "id": "6O0UJSuDPAQj",
        "colab_type": "text"
      },
      "source": [
        "As you can see from the above models, the ideal no of leaf nodes is between 10 to 15. The ideal no of leaf_nodes and depth of the tree can be found out by running these model iteratively by tuning the hyperparameters. In the above case, I have showcased how accuracy values change for few cases. \n",
        "It would be a right call to use Grid search or ROC curve (which you will be learning later as a part of this program) to find out the optimal hyperparameters. "
      ]
    },
    {
      "cell_type": "markdown",
      "metadata": {
        "id": "9Nvupq7BPAQn",
        "colab_type": "text"
      },
      "source": [
        "### Cross tab & Accuracy of the models "
      ]
    },
    {
      "cell_type": "code",
      "metadata": {
        "id": "4TwFGX-VPAQq",
        "colab_type": "code",
        "outputId": "dad62d5c-1afc-4ce0-c648-b2d4e78b9fdf",
        "colab": {
          "base_uri": "https://localhost:8080/",
          "height": 111
        }
      },
      "source": [
        "from sklearn.metrics import confusion_matrix\n",
        "\n",
        "pd.DataFrame(\n",
        "    confusion_matrix(y_test, y_predict),\n",
        "    columns=['Predicted Healthy', 'Predicted Parkinsons'],\n",
        "    index=['True Healthy', 'True Parkinsons']\n",
        ")"
      ],
      "execution_count": 0,
      "outputs": [
        {
          "output_type": "execute_result",
          "data": {
            "text/html": [
              "<div>\n",
              "<style scoped>\n",
              "    .dataframe tbody tr th:only-of-type {\n",
              "        vertical-align: middle;\n",
              "    }\n",
              "\n",
              "    .dataframe tbody tr th {\n",
              "        vertical-align: top;\n",
              "    }\n",
              "\n",
              "    .dataframe thead th {\n",
              "        text-align: right;\n",
              "    }\n",
              "</style>\n",
              "<table border=\"1\" class=\"dataframe\">\n",
              "  <thead>\n",
              "    <tr style=\"text-align: right;\">\n",
              "      <th></th>\n",
              "      <th>Predicted Healthy</th>\n",
              "      <th>Predicted Parkinsons</th>\n",
              "    </tr>\n",
              "  </thead>\n",
              "  <tbody>\n",
              "    <tr>\n",
              "      <th>True Healthy</th>\n",
              "      <td>9970</td>\n",
              "      <td>49</td>\n",
              "    </tr>\n",
              "    <tr>\n",
              "      <th>True Parkinsons</th>\n",
              "      <td>785</td>\n",
              "      <td>158</td>\n",
              "    </tr>\n",
              "  </tbody>\n",
              "</table>\n",
              "</div>"
            ],
            "text/plain": [
              "                 Predicted Healthy  Predicted Parkinsons\n",
              "True Healthy                  9970                    49\n",
              "True Parkinsons                785                   158"
            ]
          },
          "metadata": {
            "tags": []
          },
          "execution_count": 65
        }
      ]
    },
    {
      "cell_type": "markdown",
      "metadata": {
        "id": "f1t8627hPAQy",
        "colab_type": "text"
      },
      "source": [
        "### Random forest classifier"
      ]
    },
    {
      "cell_type": "code",
      "metadata": {
        "id": "1xHeMtOMPAQ0",
        "colab_type": "code",
        "colab": {}
      },
      "source": [
        "# Use the classification algorithms and compare the models to find the best model\n",
        "from sklearn.ensemble import RandomForestClassifier\n",
        "\n",
        "random_forest = RandomForestClassifier()"
      ],
      "execution_count": 0,
      "outputs": []
    },
    {
      "cell_type": "code",
      "metadata": {
        "id": "u2VV85ZnPAQ9",
        "colab_type": "code",
        "outputId": "c223d379-5073-4676-f5f3-4a0201d0c607",
        "colab": {
          "base_uri": "https://localhost:8080/",
          "height": 153
        }
      },
      "source": [
        "random_forest.fit(X_train, y_train)"
      ],
      "execution_count": 0,
      "outputs": [
        {
          "output_type": "execute_result",
          "data": {
            "text/plain": [
              "RandomForestClassifier(bootstrap=True, ccp_alpha=0.0, class_weight=None,\n",
              "                       criterion='gini', max_depth=None, max_features='auto',\n",
              "                       max_leaf_nodes=None, max_samples=None,\n",
              "                       min_impurity_decrease=0.0, min_impurity_split=None,\n",
              "                       min_samples_leaf=1, min_samples_split=2,\n",
              "                       min_weight_fraction_leaf=0.0, n_estimators=100,\n",
              "                       n_jobs=None, oob_score=False, random_state=None,\n",
              "                       verbose=0, warm_start=False)"
            ]
          },
          "metadata": {
            "tags": []
          },
          "execution_count": 67
        }
      ]
    },
    {
      "cell_type": "code",
      "metadata": {
        "id": "AyyTK3m8PARG",
        "colab_type": "code",
        "outputId": "f3508e9f-bbb0-4bd3-8c32-8d932d637c77",
        "colab": {
          "base_uri": "https://localhost:8080/",
          "height": 34
        }
      },
      "source": [
        "from sklearn.metrics import accuracy_score\n",
        "\n",
        "y_predict = random_forest.predict(X_test)\n",
        "accuracy_score(y_test, y_predict)"
      ],
      "execution_count": 0,
      "outputs": [
        {
          "output_type": "execute_result",
          "data": {
            "text/plain": [
              "0.934592227695676"
            ]
          },
          "metadata": {
            "tags": []
          },
          "execution_count": 68
        }
      ]
    },
    {
      "cell_type": "code",
      "metadata": {
        "id": "A-_m3svrPARR",
        "colab_type": "code",
        "outputId": "c6174ab5-5d0a-4755-9ed6-9a762a982646",
        "colab": {
          "base_uri": "https://localhost:8080/",
          "height": 111
        }
      },
      "source": [
        "pd.DataFrame(\n",
        "    confusion_matrix(y_test, y_predict),\n",
        "    columns=['Predicted Healthy', 'Predicted Parkinsons'],\n",
        "    index=['True Healthy', 'True Parkinsons']\n",
        ")"
      ],
      "execution_count": 0,
      "outputs": [
        {
          "output_type": "execute_result",
          "data": {
            "text/html": [
              "<div>\n",
              "<style scoped>\n",
              "    .dataframe tbody tr th:only-of-type {\n",
              "        vertical-align: middle;\n",
              "    }\n",
              "\n",
              "    .dataframe tbody tr th {\n",
              "        vertical-align: top;\n",
              "    }\n",
              "\n",
              "    .dataframe thead th {\n",
              "        text-align: right;\n",
              "    }\n",
              "</style>\n",
              "<table border=\"1\" class=\"dataframe\">\n",
              "  <thead>\n",
              "    <tr style=\"text-align: right;\">\n",
              "      <th></th>\n",
              "      <th>Predicted Healthy</th>\n",
              "      <th>Predicted Parkinsons</th>\n",
              "    </tr>\n",
              "  </thead>\n",
              "  <tbody>\n",
              "    <tr>\n",
              "      <th>True Healthy</th>\n",
              "      <td>9997</td>\n",
              "      <td>22</td>\n",
              "    </tr>\n",
              "    <tr>\n",
              "      <th>True Parkinsons</th>\n",
              "      <td>695</td>\n",
              "      <td>248</td>\n",
              "    </tr>\n",
              "  </tbody>\n",
              "</table>\n",
              "</div>"
            ],
            "text/plain": [
              "                 Predicted Healthy  Predicted Parkinsons\n",
              "True Healthy                  9997                    22\n",
              "True Parkinsons                695                   248"
            ]
          },
          "metadata": {
            "tags": []
          },
          "execution_count": 69
        }
      ]
    },
    {
      "cell_type": "code",
      "metadata": {
        "id": "ASCwl5WmPARb",
        "colab_type": "code",
        "outputId": "a410e13e-c329-4f63-f172-1e2962d7d051",
        "colab": {
          "base_uri": "https://localhost:8080/",
          "height": 34
        }
      },
      "source": [
        "from sklearn.metrics import f1_score\n",
        "f1_score(y_test, y_predict)"
      ],
      "execution_count": 0,
      "outputs": [
        {
          "output_type": "execute_result",
          "data": {
            "text/plain": [
              "0.4089035449299258"
            ]
          },
          "metadata": {
            "tags": []
          },
          "execution_count": 70
        }
      ]
    },
    {
      "cell_type": "code",
      "metadata": {
        "id": "i4hlfzQLxu09",
        "colab_type": "code",
        "outputId": "e7666973-1a29-4dab-f1f9-68ec6ac0b512",
        "colab": {
          "base_uri": "https://localhost:8080/",
          "height": 34
        }
      },
      "source": [
        "model=xgb.XGBClassifier(random_state=1,learning_rate=0.01)\n",
        "model.fit(X_train, y_train)\n",
        "model.score(X_test,y_test)"
      ],
      "execution_count": 0,
      "outputs": [
        {
          "output_type": "execute_result",
          "data": {
            "text/plain": [
              "0.9235540959678891"
            ]
          },
          "metadata": {
            "tags": []
          },
          "execution_count": 71
        }
      ]
    },
    {
      "cell_type": "code",
      "metadata": {
        "id": "poKEbwwn1X6x",
        "colab_type": "code",
        "outputId": "f0c086cc-c6d9-418c-fd51-67169a867a9a",
        "colab": {
          "base_uri": "https://localhost:8080/",
          "height": 34
        }
      },
      "source": [
        "y_predict = model.predict(X_test)\n",
        "accuracy_score(y_test, y_predict)"
      ],
      "execution_count": 0,
      "outputs": [
        {
          "output_type": "execute_result",
          "data": {
            "text/plain": [
              "0.9235540959678891"
            ]
          },
          "metadata": {
            "tags": []
          },
          "execution_count": 74
        }
      ]
    },
    {
      "cell_type": "code",
      "metadata": {
        "id": "MJQ5XsNjyNOo",
        "colab_type": "code",
        "outputId": "e9e33ed1-f29b-41ba-f6c9-61e582022509",
        "colab": {
          "base_uri": "https://localhost:8080/",
          "height": 34
        }
      },
      "source": [
        "from sklearn.metrics import f1_score\n",
        "f1_score(y_test, y_predict)"
      ],
      "execution_count": 0,
      "outputs": [
        {
          "output_type": "execute_result",
          "data": {
            "text/plain": [
              "0.4500775995861355"
            ]
          },
          "metadata": {
            "tags": []
          },
          "execution_count": 17
        }
      ]
    },
    {
      "cell_type": "code",
      "metadata": {
        "id": "VAI_o3Au1yWH",
        "colab_type": "code",
        "outputId": "5e578cdd-be9a-4d5c-c0c5-1e6e6eb35c3b",
        "colab": {
          "base_uri": "https://localhost:8080/",
          "height": 136
        }
      },
      "source": [
        "###Train the model with the best params\n",
        "modelXg = xgb.XGBClassifier(learning_rate=0.1, n_estimators=200, max_depth=4, min_child_weight=7, \n",
        "                      gamma=0.4,nthread=4, subsample=0.8, colsample_bytree=0.8, objective= 'binary:logistic',scale_pos_weight=3,seed=29)\n",
        "modelXg.fit(X_train, y_train)"
      ],
      "execution_count": 17,
      "outputs": [
        {
          "output_type": "execute_result",
          "data": {
            "text/plain": [
              "XGBClassifier(base_score=0.5, booster='gbtree', colsample_bylevel=1,\n",
              "              colsample_bynode=1, colsample_bytree=0.8, gamma=0.4,\n",
              "              learning_rate=0.1, max_delta_step=0, max_depth=4,\n",
              "              min_child_weight=7, missing=None, n_estimators=200, n_jobs=1,\n",
              "              nthread=4, objective='binary:logistic', random_state=0,\n",
              "              reg_alpha=0, reg_lambda=1, scale_pos_weight=3, seed=29,\n",
              "              silent=None, subsample=0.8, verbosity=1)"
            ]
          },
          "metadata": {
            "tags": []
          },
          "execution_count": 17
        }
      ]
    },
    {
      "cell_type": "code",
      "metadata": {
        "id": "ukEkMAFV7SwU",
        "colab_type": "code",
        "outputId": "c2fbbe3e-f262-453f-cb2d-c6d60a897813",
        "colab": {
          "base_uri": "https://localhost:8080/",
          "height": 34
        }
      },
      "source": [
        "y_predict = modelXg.predict(X_test)\n",
        "accuracy_score(y_test, y_predict)"
      ],
      "execution_count": 18,
      "outputs": [
        {
          "output_type": "execute_result",
          "data": {
            "text/plain": [
              "0.9320379492793286"
            ]
          },
          "metadata": {
            "tags": []
          },
          "execution_count": 18
        }
      ]
    },
    {
      "cell_type": "code",
      "metadata": {
        "id": "G5mIAuBV7ccB",
        "colab_type": "code",
        "outputId": "a9231032-ff83-4b3d-cd92-42c6182ba682",
        "colab": {
          "base_uri": "https://localhost:8080/",
          "height": 34
        }
      },
      "source": [
        "f1_score(y_test, y_predict)"
      ],
      "execution_count": 19,
      "outputs": [
        {
          "output_type": "execute_result",
          "data": {
            "text/plain": [
              "0.5227418321588725"
            ]
          },
          "metadata": {
            "tags": []
          },
          "execution_count": 19
        }
      ]
    },
    {
      "cell_type": "code",
      "metadata": {
        "id": "bdGxe-Wv7ppI",
        "colab_type": "code",
        "outputId": "9ecf2893-5bbc-41ff-f048-7dd00db954b9",
        "colab": {
          "base_uri": "https://localhost:8080/",
          "height": 111
        }
      },
      "source": [
        "pd.DataFrame(\n",
        "    confusion_matrix(y_test, y_predict),\n",
        "    columns=['Predicted Healthy', 'Predicted Parkinsons'],\n",
        "    index=['True Healthy', 'True Parkinsons']\n",
        ")"
      ],
      "execution_count": 22,
      "outputs": [
        {
          "output_type": "execute_result",
          "data": {
            "text/html": [
              "<div>\n",
              "<style scoped>\n",
              "    .dataframe tbody tr th:only-of-type {\n",
              "        vertical-align: middle;\n",
              "    }\n",
              "\n",
              "    .dataframe tbody tr th {\n",
              "        vertical-align: top;\n",
              "    }\n",
              "\n",
              "    .dataframe thead th {\n",
              "        text-align: right;\n",
              "    }\n",
              "</style>\n",
              "<table border=\"1\" class=\"dataframe\">\n",
              "  <thead>\n",
              "    <tr style=\"text-align: right;\">\n",
              "      <th></th>\n",
              "      <th>Predicted Healthy</th>\n",
              "      <th>Predicted Parkinsons</th>\n",
              "    </tr>\n",
              "  </thead>\n",
              "  <tbody>\n",
              "    <tr>\n",
              "      <th>True Healthy</th>\n",
              "      <td>9809</td>\n",
              "      <td>210</td>\n",
              "    </tr>\n",
              "    <tr>\n",
              "      <th>True Parkinsons</th>\n",
              "      <td>535</td>\n",
              "      <td>408</td>\n",
              "    </tr>\n",
              "  </tbody>\n",
              "</table>\n",
              "</div>"
            ],
            "text/plain": [
              "                 Predicted Healthy  Predicted Parkinsons\n",
              "True Healthy                  9809                   210\n",
              "True Parkinsons                535                   408"
            ]
          },
          "metadata": {
            "tags": []
          },
          "execution_count": 22
        }
      ]
    },
    {
      "cell_type": "code",
      "metadata": {
        "id": "5eNOeBfRcvq3",
        "colab_type": "code",
        "colab": {}
      },
      "source": [
        ""
      ],
      "execution_count": 0,
      "outputs": []
    },
    {
      "cell_type": "code",
      "metadata": {
        "id": "V5nTUf2M8Cwm",
        "colab_type": "code",
        "colab": {}
      },
      "source": [
        "from sklearn.model_selection import GridSearchCV\n",
        "param_test2b = {\n",
        "  'min_child_weight':[5,6],\n",
        "  'max_depth': range(4,10),\n",
        "  'n_estimators':[250,300],\n",
        "  'scale_pos_weight':[3,4],\n",
        "  'colsample_bytree':[0.8,0.9], \n",
        "  'subsample':[0.7,0.8],\n",
        "  'gamma':[0.2,0.4]\n",
        "    \n",
        "}\n",
        "gsearch2b = GridSearchCV(estimator = xgb.XGBClassifier( learning_rate=0.1, n_estimators=150, max_depth=5,\n",
        "min_child_weight=1, gamma=0, subsample=0.8, colsample_bytree=0.8,\n",
        "objective= 'binary:logistic', nthread=4, scale_pos_weight=3,seed=27), \n",
        "param_grid = param_test2b, scoring='f1',n_jobs=4,iid=False, cv=5)\n",
        "gsearch2b.fit(X_train, y_train)"
      ],
      "execution_count": 0,
      "outputs": []
    },
    {
      "cell_type": "code",
      "metadata": {
        "id": "cNjyzLc8rtma",
        "colab_type": "code",
        "colab": {
          "base_uri": "https://localhost:8080/",
          "height": 51
        },
        "outputId": "07f89cad-e737-4ad9-dcb2-4e621753f57d"
      },
      "source": [
        "print(\"gsearch2b.best_params_\",gsearch2b.best_params_)\n",
        "print(\"gsearch2b.best_score_\",gsearch2b.best_score_)"
      ],
      "execution_count": 24,
      "outputs": [
        {
          "output_type": "stream",
          "text": [
            "gsearch2b.best_params_ {'colsample_bytree': 0.8, 'gamma': 0.2, 'max_depth': 5, 'min_child_weight': 6, 'n_estimators': 300, 'scale_pos_weight': 3, 'subsample': 0.7}\n",
            "gsearch2b.best_score_ 0.5150667942781559\n"
          ],
          "name": "stdout"
        }
      ]
    },
    {
      "cell_type": "code",
      "metadata": {
        "id": "D6CYaR7wIfw5",
        "colab_type": "code",
        "colab": {
          "base_uri": "https://localhost:8080/",
          "height": 136
        },
        "outputId": "a34a3333-41e1-4090-bd5f-8bc8c56fce57"
      },
      "source": [
        "###Train the model with the best params\n",
        "modelXg_best = xgb.XGBClassifier(learning_rate=0.1, n_estimators=250, max_depth=5, min_child_weight=6, \n",
        "                      gamma=0.2,nthread=4, subsample=0.7, colsample_bytree=0.8, objective= 'binary:logistic',scale_pos_weight=3,seed=29)\n",
        "modelXg_best.fit(X_train, y_train)"
      ],
      "execution_count": 32,
      "outputs": [
        {
          "output_type": "execute_result",
          "data": {
            "text/plain": [
              "XGBClassifier(base_score=0.5, booster='gbtree', colsample_bylevel=1,\n",
              "              colsample_bynode=1, colsample_bytree=0.8, gamma=0.2,\n",
              "              learning_rate=0.1, max_delta_step=0, max_depth=5,\n",
              "              min_child_weight=6, missing=None, n_estimators=250, n_jobs=1,\n",
              "              nthread=4, objective='binary:logistic', random_state=0,\n",
              "              reg_alpha=0, reg_lambda=1, scale_pos_weight=3, seed=29,\n",
              "              silent=None, subsample=0.7, verbosity=1)"
            ]
          },
          "metadata": {
            "tags": []
          },
          "execution_count": 32
        }
      ]
    },
    {
      "cell_type": "code",
      "metadata": {
        "id": "qSLprp2TIni5",
        "colab_type": "code",
        "colab": {
          "base_uri": "https://localhost:8080/",
          "height": 34
        },
        "outputId": "dc777a5c-caf7-41d9-e24a-0f6f983b1fdb"
      },
      "source": [
        "y_predict = modelXg_best.predict(X_test)\n",
        "accuracy_score(y_test, y_predict)"
      ],
      "execution_count": 33,
      "outputs": [
        {
          "output_type": "execute_result",
          "data": {
            "text/plain": [
              "0.9304871373836892"
            ]
          },
          "metadata": {
            "tags": []
          },
          "execution_count": 33
        }
      ]
    },
    {
      "cell_type": "code",
      "metadata": {
        "id": "7dCaBSIjI87m",
        "colab_type": "code",
        "colab": {
          "base_uri": "https://localhost:8080/",
          "height": 34
        },
        "outputId": "7283b7dd-c431-4cdb-ed30-463b577ce3e1"
      },
      "source": [
        "f1_score(y_test, y_predict)"
      ],
      "execution_count": 34,
      "outputs": [
        {
          "output_type": "execute_result",
          "data": {
            "text/plain": [
              "0.5243445692883895"
            ]
          },
          "metadata": {
            "tags": []
          },
          "execution_count": 34
        }
      ]
    },
    {
      "cell_type": "code",
      "metadata": {
        "id": "wD-EupMnJjoF",
        "colab_type": "code",
        "colab": {}
      },
      "source": [
        ""
      ],
      "execution_count": 0,
      "outputs": []
    }
  ]
}